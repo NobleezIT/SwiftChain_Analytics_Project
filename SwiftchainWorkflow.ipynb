{
  "nbformat": 4,
  "nbformat_minor": 0,
  "metadata": {
    "colab": {
      "provenance": []
    },
    "kernelspec": {
      "name": "python3",
      "display_name": "Python 3"
    },
    "language_info": {
      "name": "python"
    }
  },
  "cells": [
    {
      "cell_type": "markdown",
      "source": [
        "# **SwitchChain Analytics**"
      ],
      "metadata": {
        "id": "kJLdLU_WkWTC"
      }
    },
    {
      "cell_type": "markdown",
      "source": [
        "# 🚀 **Phase 1: Understanding the Problem - Delivery Delay Prediction**\n",
        "\n",
        "*Capstone Project for SwiftChain Analytics*"
      ],
      "metadata": {
        "id": "vyRbAlbShta8"
      }
    },
    {
      "cell_type": "markdown",
      "source": [
        "## 📝 **Business Context**\n",
        "\n",
        "SwiftChain Analytics specializes in optimizing supply chain operations using advanced data-driven solutions. Delivery delays are a major challenge, affecting:\n",
        "\n",
        "✅ Operational costs (re-delivery, compensations)\n",
        "\n",
        "✅ Customer satisfaction and retention\n",
        "\n",
        "✅ Reputation and competitiveness\n",
        "\n",
        "✅ Overall supply chain efficiency\n",
        "\n",
        "**Goal:** Predict delivery delays using historical logistics data to enable proactive decision-making and improve operational excellence.\n",
        "\n",
        "## 🎯 **Project Objective**\n",
        "\n",
        "Develop a machine learning model to classify delivery outcomes:\n",
        "\n",
        "* `-1` = Late Delivery\n",
        "* `0` = On-time Delivery\n",
        "* `1` = Early Delivery\n",
        "\n",
        "The model will help SwiftChain and its partners reduce delays, cut costs, and enhance customer experience.\n",
        "\n",
        "---\n",
        "\n",
        "## 📦 **Dataset Overview**\n",
        "\n",
        "The dataset provided simulates real-world logistics data with **41 variables**, grouped into:\n",
        "\n",
        "✅ **Customer Information** — Location, demographics, customer segment\n",
        "\n",
        "✅ **Order Details** — Order IDs, dates, status, regions\n",
        "\n",
        "✅ **Product Information** — Product names, categories, departments\n",
        "\n",
        "✅ **Financial Metrics** — Sales, profit, discount details\n",
        "\n",
        "✅ **Shipping Information** — Shipping mode, shipping dates\n",
        "\n",
        "✅ **Target Label** — Delivery outcome (`label` column)"
      ],
      "metadata": {
        "id": "03EgmClIh2Xa"
      }
    },
    {
      "cell_type": "code",
      "execution_count": 1,
      "metadata": {
        "colab": {
          "base_uri": "https://localhost:8080/"
        },
        "id": "toLMowkMemhn",
        "outputId": "d5baf642-eba2-41c7-c82e-f90d4ec56757"
      },
      "outputs": [
        {
          "output_type": "stream",
          "name": "stdout",
          "text": [
            "Mounted at /content/drive\n"
          ]
        }
      ],
      "source": [
        "from google.colab import drive\n",
        "drive.mount('/content/drive')"
      ]
    },
    {
      "cell_type": "markdown",
      "source": [
        "# Dataset Loading"
      ],
      "metadata": {
        "id": "DsLzwwcIigIn"
      }
    },
    {
      "cell_type": "code",
      "source": [
        "# import pandas library\n",
        "import pandas as pd\n",
        "\n",
        "# load Dataset into pandas\n",
        "df = pd.read_csv('/content/drive/My Drive/switch/logistics.csv')\n"
      ],
      "metadata": {
        "id": "a_O4C8i3e4__"
      },
      "execution_count": 2,
      "outputs": []
    },
    {
      "cell_type": "markdown",
      "source": [
        "# Initial Data Inspection"
      ],
      "metadata": {
        "id": "BRsrT0-BixOl"
      }
    },
    {
      "cell_type": "code",
      "source": [
        "# Check dataset dimensions\n",
        "df.shape"
      ],
      "metadata": {
        "colab": {
          "base_uri": "https://localhost:8080/"
        },
        "id": "9IcZCYkPi7h7",
        "outputId": "16bd7b51-dc9c-4559-f889-1426231e3ad5"
      },
      "execution_count": 3,
      "outputs": [
        {
          "output_type": "execute_result",
          "data": {
            "text/plain": [
              "(15549, 41)"
            ]
          },
          "metadata": {},
          "execution_count": 3
        }
      ]
    },
    {
      "cell_type": "code",
      "source": [
        "# Preview first few records\n",
        "df.info()"
      ],
      "metadata": {
        "colab": {
          "base_uri": "https://localhost:8080/"
        },
        "id": "9U0g-DkkjBsN",
        "outputId": "a153c507-0f96-4276-e63b-ed63f62ab05d"
      },
      "execution_count": 4,
      "outputs": [
        {
          "output_type": "stream",
          "name": "stdout",
          "text": [
            "<class 'pandas.core.frame.DataFrame'>\n",
            "RangeIndex: 15549 entries, 0 to 15548\n",
            "Data columns (total 41 columns):\n",
            " #   Column                    Non-Null Count  Dtype  \n",
            "---  ------                    --------------  -----  \n",
            " 0   payment_type              15549 non-null  object \n",
            " 1   profit_per_order          15549 non-null  float64\n",
            " 2   sales_per_customer        15549 non-null  float64\n",
            " 3   category_id               15549 non-null  float64\n",
            " 4   category_name             15549 non-null  object \n",
            " 5   customer_city             15549 non-null  object \n",
            " 6   customer_country          15549 non-null  object \n",
            " 7   customer_id               15549 non-null  float64\n",
            " 8   customer_segment          15549 non-null  object \n",
            " 9   customer_state            15549 non-null  object \n",
            " 10  customer_zipcode          15549 non-null  float64\n",
            " 11  department_id             15549 non-null  float64\n",
            " 12  department_name           15549 non-null  object \n",
            " 13  latitude                  15549 non-null  float64\n",
            " 14  longitude                 15549 non-null  float64\n",
            " 15  market                    15549 non-null  object \n",
            " 16  order_city                15549 non-null  object \n",
            " 17  order_country             15549 non-null  object \n",
            " 18  order_customer_id         15549 non-null  float64\n",
            " 19  order_date                15549 non-null  object \n",
            " 20  order_id                  15549 non-null  float64\n",
            " 21  order_item_cardprod_id    15549 non-null  float64\n",
            " 22  order_item_discount       15549 non-null  float64\n",
            " 23  order_item_discount_rate  15549 non-null  float64\n",
            " 24  order_item_id             15549 non-null  float64\n",
            " 25  order_item_product_price  15549 non-null  float64\n",
            " 26  order_item_profit_ratio   15549 non-null  float64\n",
            " 27  order_item_quantity       15549 non-null  float64\n",
            " 28  sales                     15549 non-null  float64\n",
            " 29  order_item_total_amount   15549 non-null  float64\n",
            " 30  order_profit_per_order    15549 non-null  float64\n",
            " 31  order_region              15549 non-null  object \n",
            " 32  order_state               15549 non-null  object \n",
            " 33  order_status              15549 non-null  object \n",
            " 34  product_card_id           15549 non-null  float64\n",
            " 35  product_category_id       15549 non-null  float64\n",
            " 36  product_name              15549 non-null  object \n",
            " 37  product_price             15549 non-null  float64\n",
            " 38  shipping_date             15549 non-null  object \n",
            " 39  shipping_mode             15549 non-null  object \n",
            " 40  label                     15549 non-null  int64  \n",
            "dtypes: float64(23), int64(1), object(17)\n",
            "memory usage: 4.9+ MB\n"
          ]
        }
      ]
    },
    {
      "cell_type": "markdown",
      "source": [
        "# 📃 List of Columns & Data Types"
      ],
      "metadata": {
        "id": "oEANYuTujJiX"
      }
    },
    {
      "cell_type": "code",
      "source": [
        "# List of all columns\n",
        "print(df.columns.tolist())\n"
      ],
      "metadata": {
        "colab": {
          "base_uri": "https://localhost:8080/"
        },
        "id": "_KD8uqKafJV_",
        "outputId": "8c2fea01-39ee-4205-a377-a228758991c1"
      },
      "execution_count": 5,
      "outputs": [
        {
          "output_type": "stream",
          "name": "stdout",
          "text": [
            "['payment_type', 'profit_per_order', 'sales_per_customer', 'category_id', 'category_name', 'customer_city', 'customer_country', 'customer_id', 'customer_segment', 'customer_state', 'customer_zipcode', 'department_id', 'department_name', 'latitude', 'longitude', 'market', 'order_city', 'order_country', 'order_customer_id', 'order_date', 'order_id', 'order_item_cardprod_id', 'order_item_discount', 'order_item_discount_rate', 'order_item_id', 'order_item_product_price', 'order_item_profit_ratio', 'order_item_quantity', 'sales', 'order_item_total_amount', 'order_profit_per_order', 'order_region', 'order_state', 'order_status', 'product_card_id', 'product_category_id', 'product_name', 'product_price', 'shipping_date', 'shipping_mode', 'label']\n"
          ]
        }
      ]
    },
    {
      "cell_type": "code",
      "source": [
        "# Data types and missing values overview\n",
        "df.info()"
      ],
      "metadata": {
        "colab": {
          "base_uri": "https://localhost:8080/"
        },
        "id": "9kszl8G-jTP5",
        "outputId": "f7767ba9-eef8-4fea-c1a3-e533dda5bf2d"
      },
      "execution_count": 6,
      "outputs": [
        {
          "output_type": "stream",
          "name": "stdout",
          "text": [
            "<class 'pandas.core.frame.DataFrame'>\n",
            "RangeIndex: 15549 entries, 0 to 15548\n",
            "Data columns (total 41 columns):\n",
            " #   Column                    Non-Null Count  Dtype  \n",
            "---  ------                    --------------  -----  \n",
            " 0   payment_type              15549 non-null  object \n",
            " 1   profit_per_order          15549 non-null  float64\n",
            " 2   sales_per_customer        15549 non-null  float64\n",
            " 3   category_id               15549 non-null  float64\n",
            " 4   category_name             15549 non-null  object \n",
            " 5   customer_city             15549 non-null  object \n",
            " 6   customer_country          15549 non-null  object \n",
            " 7   customer_id               15549 non-null  float64\n",
            " 8   customer_segment          15549 non-null  object \n",
            " 9   customer_state            15549 non-null  object \n",
            " 10  customer_zipcode          15549 non-null  float64\n",
            " 11  department_id             15549 non-null  float64\n",
            " 12  department_name           15549 non-null  object \n",
            " 13  latitude                  15549 non-null  float64\n",
            " 14  longitude                 15549 non-null  float64\n",
            " 15  market                    15549 non-null  object \n",
            " 16  order_city                15549 non-null  object \n",
            " 17  order_country             15549 non-null  object \n",
            " 18  order_customer_id         15549 non-null  float64\n",
            " 19  order_date                15549 non-null  object \n",
            " 20  order_id                  15549 non-null  float64\n",
            " 21  order_item_cardprod_id    15549 non-null  float64\n",
            " 22  order_item_discount       15549 non-null  float64\n",
            " 23  order_item_discount_rate  15549 non-null  float64\n",
            " 24  order_item_id             15549 non-null  float64\n",
            " 25  order_item_product_price  15549 non-null  float64\n",
            " 26  order_item_profit_ratio   15549 non-null  float64\n",
            " 27  order_item_quantity       15549 non-null  float64\n",
            " 28  sales                     15549 non-null  float64\n",
            " 29  order_item_total_amount   15549 non-null  float64\n",
            " 30  order_profit_per_order    15549 non-null  float64\n",
            " 31  order_region              15549 non-null  object \n",
            " 32  order_state               15549 non-null  object \n",
            " 33  order_status              15549 non-null  object \n",
            " 34  product_card_id           15549 non-null  float64\n",
            " 35  product_category_id       15549 non-null  float64\n",
            " 36  product_name              15549 non-null  object \n",
            " 37  product_price             15549 non-null  float64\n",
            " 38  shipping_date             15549 non-null  object \n",
            " 39  shipping_mode             15549 non-null  object \n",
            " 40  label                     15549 non-null  int64  \n",
            "dtypes: float64(23), int64(1), object(17)\n",
            "memory usage: 4.9+ MB\n"
          ]
        }
      ]
    },
    {
      "cell_type": "markdown",
      "source": [
        "# 🎯 Target Variable Distribution Check"
      ],
      "metadata": {
        "id": "VRc4Y6eJjXdr"
      }
    },
    {
      "cell_type": "code",
      "source": [
        "# Check unique values in the label column\n",
        "df['label'].value_counts()\n"
      ],
      "metadata": {
        "colab": {
          "base_uri": "https://localhost:8080/",
          "height": 209
        },
        "id": "TUUicHc0g5Aj",
        "outputId": "52b2da05-dcb3-4969-9108-98c2435376f9"
      },
      "execution_count": 7,
      "outputs": [
        {
          "output_type": "execute_result",
          "data": {
            "text/plain": [
              "label\n",
              " 1    8976\n",
              "-1    3545\n",
              " 0    3028\n",
              "Name: count, dtype: int64"
            ],
            "text/html": [
              "<div>\n",
              "<style scoped>\n",
              "    .dataframe tbody tr th:only-of-type {\n",
              "        vertical-align: middle;\n",
              "    }\n",
              "\n",
              "    .dataframe tbody tr th {\n",
              "        vertical-align: top;\n",
              "    }\n",
              "\n",
              "    .dataframe thead th {\n",
              "        text-align: right;\n",
              "    }\n",
              "</style>\n",
              "<table border=\"1\" class=\"dataframe\">\n",
              "  <thead>\n",
              "    <tr style=\"text-align: right;\">\n",
              "      <th></th>\n",
              "      <th>count</th>\n",
              "    </tr>\n",
              "    <tr>\n",
              "      <th>label</th>\n",
              "      <th></th>\n",
              "    </tr>\n",
              "  </thead>\n",
              "  <tbody>\n",
              "    <tr>\n",
              "      <th>1</th>\n",
              "      <td>8976</td>\n",
              "    </tr>\n",
              "    <tr>\n",
              "      <th>-1</th>\n",
              "      <td>3545</td>\n",
              "    </tr>\n",
              "    <tr>\n",
              "      <th>0</th>\n",
              "      <td>3028</td>\n",
              "    </tr>\n",
              "  </tbody>\n",
              "</table>\n",
              "</div><br><label><b>dtype:</b> int64</label>"
            ]
          },
          "metadata": {},
          "execution_count": 7
        }
      ]
    },
    {
      "cell_type": "markdown",
      "source": [
        "# 📝 Key Observations (Initial)\n",
        "\n",
        "- Dataset contains  15549 rows and 41 columns\n",
        "\n",
        "- The target variable label has the following class distribution:\n",
        "\n",
        " - Late Deliveries (-1) = 3545\n",
        "\n",
        " - On-time Deliveries (0) = 3028\n",
        "\n",
        " - Early Deliveries (1) = 8976\n",
        "\n",
        "- Basic structure matches expectations\n",
        "\n",
        "- No loading errors encountered"
      ],
      "metadata": {
        "id": "1IrM9WAdji9M"
      }
    },
    {
      "cell_type": "markdown",
      "source": [
        "# **Phase 2: Exploratory Data Analysis (EDA) - Delivery Delay Prediction**\n",
        "\n",
        "---\n",
        "\n",
        "## **Objective of EDA**\n",
        "\n",
        "Before building predictive models, we need to:\n",
        "\n",
        "✅ Understand data distributions\n",
        "\n",
        "✅ Detect missing values and outliers\n",
        "\n",
        "✅ Visualize relationships between key variables\n",
        "\n",
        "✅ Explore patterns contributing to delivery delays"
      ],
      "metadata": {
        "id": "CekpibIElMnE"
      }
    },
    {
      "cell_type": "code",
      "source": [
        "# Inspect Dataset\n",
        "df.head()"
      ],
      "metadata": {
        "colab": {
          "base_uri": "https://localhost:8080/",
          "height": 446
        },
        "id": "spW6_Lk1lxum",
        "outputId": "dfe4c930-a1ae-4841-95a9-f8bdc1b75fbf"
      },
      "execution_count": 8,
      "outputs": [
        {
          "output_type": "execute_result",
          "data": {
            "text/plain": [
              "  payment_type  profit_per_order  sales_per_customer  category_id  \\\n",
              "0        DEBIT         34.448338            92.49099          9.0   \n",
              "1     TRANSFER         91.193540           181.99008         48.0   \n",
              "2        DEBIT          8.313806            89.96643         46.0   \n",
              "3     TRANSFER        -89.463196            99.15065         17.0   \n",
              "4        DEBIT         44.722590           170.97824         48.0   \n",
              "\n",
              "          category_name customer_city customer_country  customer_id  \\\n",
              "0      Cardio Equipment        Caguas      Puerto Rico   12097.6830   \n",
              "1          Water Sports   Albuquerque          EE. UU.    5108.1045   \n",
              "2  Indoor/Outdoor Games      Amarillo      Puerto Rico    4293.4478   \n",
              "3                Cleats        Caguas      Puerto Rico     546.5306   \n",
              "4          Water Sports       Peabody          EE. UU.    1546.3980   \n",
              "\n",
              "  customer_segment customer_state  ...     order_region  \\\n",
              "0         Consumer             PR  ...   Western Europe   \n",
              "1         Consumer             CA  ...    South America   \n",
              "2         Consumer             PR  ...   Western Europe   \n",
              "3         Consumer             PR  ...  Central America   \n",
              "4         Consumer             CA  ...  Central America   \n",
              "\n",
              "                  order_state order_status  product_card_id  \\\n",
              "0                      Vienna     COMPLETE            191.0   \n",
              "1                Buenos Aires      PENDING           1073.0   \n",
              "2  Nord-Pas-de-Calais-Picardy     COMPLETE           1014.0   \n",
              "3                   Santa Ana   PROCESSING            365.0   \n",
              "4                    Illinois     COMPLETE           1073.0   \n",
              "\n",
              "   product_category_id                       product_name product_price  \\\n",
              "0                  9.0  Nike Men's Free 5.0+ Running Shoe         99.99   \n",
              "1                 48.0        Pelican Sunstream 100 Kayak        199.99   \n",
              "2                 46.0   O'Brien Men's Neoprene Life Vest         49.98   \n",
              "3                 17.0   Perfect Fitness Perfect Rip Deck         59.99   \n",
              "4                 48.0        Pelican Sunstream 100 Kayak        199.99   \n",
              "\n",
              "               shipping_date   shipping_mode label  \n",
              "0  2015-08-13 00:00:00+01:00  Standard Class    -1  \n",
              "1  2017-04-09 00:00:00+01:00  Standard Class    -1  \n",
              "2  2015-03-18 00:00:00+00:00    Second Class     1  \n",
              "3  2017-03-18 00:00:00+00:00    Second Class     0  \n",
              "4  2015-03-30 00:00:00+01:00  Standard Class     1  \n",
              "\n",
              "[5 rows x 41 columns]"
            ],
            "text/html": [
              "\n",
              "  <div id=\"df-7db68928-c9db-4391-be18-1a777f256482\" class=\"colab-df-container\">\n",
              "    <div>\n",
              "<style scoped>\n",
              "    .dataframe tbody tr th:only-of-type {\n",
              "        vertical-align: middle;\n",
              "    }\n",
              "\n",
              "    .dataframe tbody tr th {\n",
              "        vertical-align: top;\n",
              "    }\n",
              "\n",
              "    .dataframe thead th {\n",
              "        text-align: right;\n",
              "    }\n",
              "</style>\n",
              "<table border=\"1\" class=\"dataframe\">\n",
              "  <thead>\n",
              "    <tr style=\"text-align: right;\">\n",
              "      <th></th>\n",
              "      <th>payment_type</th>\n",
              "      <th>profit_per_order</th>\n",
              "      <th>sales_per_customer</th>\n",
              "      <th>category_id</th>\n",
              "      <th>category_name</th>\n",
              "      <th>customer_city</th>\n",
              "      <th>customer_country</th>\n",
              "      <th>customer_id</th>\n",
              "      <th>customer_segment</th>\n",
              "      <th>customer_state</th>\n",
              "      <th>...</th>\n",
              "      <th>order_region</th>\n",
              "      <th>order_state</th>\n",
              "      <th>order_status</th>\n",
              "      <th>product_card_id</th>\n",
              "      <th>product_category_id</th>\n",
              "      <th>product_name</th>\n",
              "      <th>product_price</th>\n",
              "      <th>shipping_date</th>\n",
              "      <th>shipping_mode</th>\n",
              "      <th>label</th>\n",
              "    </tr>\n",
              "  </thead>\n",
              "  <tbody>\n",
              "    <tr>\n",
              "      <th>0</th>\n",
              "      <td>DEBIT</td>\n",
              "      <td>34.448338</td>\n",
              "      <td>92.49099</td>\n",
              "      <td>9.0</td>\n",
              "      <td>Cardio Equipment</td>\n",
              "      <td>Caguas</td>\n",
              "      <td>Puerto Rico</td>\n",
              "      <td>12097.6830</td>\n",
              "      <td>Consumer</td>\n",
              "      <td>PR</td>\n",
              "      <td>...</td>\n",
              "      <td>Western Europe</td>\n",
              "      <td>Vienna</td>\n",
              "      <td>COMPLETE</td>\n",
              "      <td>191.0</td>\n",
              "      <td>9.0</td>\n",
              "      <td>Nike Men's Free 5.0+ Running Shoe</td>\n",
              "      <td>99.99</td>\n",
              "      <td>2015-08-13 00:00:00+01:00</td>\n",
              "      <td>Standard Class</td>\n",
              "      <td>-1</td>\n",
              "    </tr>\n",
              "    <tr>\n",
              "      <th>1</th>\n",
              "      <td>TRANSFER</td>\n",
              "      <td>91.193540</td>\n",
              "      <td>181.99008</td>\n",
              "      <td>48.0</td>\n",
              "      <td>Water Sports</td>\n",
              "      <td>Albuquerque</td>\n",
              "      <td>EE. UU.</td>\n",
              "      <td>5108.1045</td>\n",
              "      <td>Consumer</td>\n",
              "      <td>CA</td>\n",
              "      <td>...</td>\n",
              "      <td>South America</td>\n",
              "      <td>Buenos Aires</td>\n",
              "      <td>PENDING</td>\n",
              "      <td>1073.0</td>\n",
              "      <td>48.0</td>\n",
              "      <td>Pelican Sunstream 100 Kayak</td>\n",
              "      <td>199.99</td>\n",
              "      <td>2017-04-09 00:00:00+01:00</td>\n",
              "      <td>Standard Class</td>\n",
              "      <td>-1</td>\n",
              "    </tr>\n",
              "    <tr>\n",
              "      <th>2</th>\n",
              "      <td>DEBIT</td>\n",
              "      <td>8.313806</td>\n",
              "      <td>89.96643</td>\n",
              "      <td>46.0</td>\n",
              "      <td>Indoor/Outdoor Games</td>\n",
              "      <td>Amarillo</td>\n",
              "      <td>Puerto Rico</td>\n",
              "      <td>4293.4478</td>\n",
              "      <td>Consumer</td>\n",
              "      <td>PR</td>\n",
              "      <td>...</td>\n",
              "      <td>Western Europe</td>\n",
              "      <td>Nord-Pas-de-Calais-Picardy</td>\n",
              "      <td>COMPLETE</td>\n",
              "      <td>1014.0</td>\n",
              "      <td>46.0</td>\n",
              "      <td>O'Brien Men's Neoprene Life Vest</td>\n",
              "      <td>49.98</td>\n",
              "      <td>2015-03-18 00:00:00+00:00</td>\n",
              "      <td>Second Class</td>\n",
              "      <td>1</td>\n",
              "    </tr>\n",
              "    <tr>\n",
              "      <th>3</th>\n",
              "      <td>TRANSFER</td>\n",
              "      <td>-89.463196</td>\n",
              "      <td>99.15065</td>\n",
              "      <td>17.0</td>\n",
              "      <td>Cleats</td>\n",
              "      <td>Caguas</td>\n",
              "      <td>Puerto Rico</td>\n",
              "      <td>546.5306</td>\n",
              "      <td>Consumer</td>\n",
              "      <td>PR</td>\n",
              "      <td>...</td>\n",
              "      <td>Central America</td>\n",
              "      <td>Santa Ana</td>\n",
              "      <td>PROCESSING</td>\n",
              "      <td>365.0</td>\n",
              "      <td>17.0</td>\n",
              "      <td>Perfect Fitness Perfect Rip Deck</td>\n",
              "      <td>59.99</td>\n",
              "      <td>2017-03-18 00:00:00+00:00</td>\n",
              "      <td>Second Class</td>\n",
              "      <td>0</td>\n",
              "    </tr>\n",
              "    <tr>\n",
              "      <th>4</th>\n",
              "      <td>DEBIT</td>\n",
              "      <td>44.722590</td>\n",
              "      <td>170.97824</td>\n",
              "      <td>48.0</td>\n",
              "      <td>Water Sports</td>\n",
              "      <td>Peabody</td>\n",
              "      <td>EE. UU.</td>\n",
              "      <td>1546.3980</td>\n",
              "      <td>Consumer</td>\n",
              "      <td>CA</td>\n",
              "      <td>...</td>\n",
              "      <td>Central America</td>\n",
              "      <td>Illinois</td>\n",
              "      <td>COMPLETE</td>\n",
              "      <td>1073.0</td>\n",
              "      <td>48.0</td>\n",
              "      <td>Pelican Sunstream 100 Kayak</td>\n",
              "      <td>199.99</td>\n",
              "      <td>2015-03-30 00:00:00+01:00</td>\n",
              "      <td>Standard Class</td>\n",
              "      <td>1</td>\n",
              "    </tr>\n",
              "  </tbody>\n",
              "</table>\n",
              "<p>5 rows × 41 columns</p>\n",
              "</div>\n",
              "    <div class=\"colab-df-buttons\">\n",
              "\n",
              "  <div class=\"colab-df-container\">\n",
              "    <button class=\"colab-df-convert\" onclick=\"convertToInteractive('df-7db68928-c9db-4391-be18-1a777f256482')\"\n",
              "            title=\"Convert this dataframe to an interactive table.\"\n",
              "            style=\"display:none;\">\n",
              "\n",
              "  <svg xmlns=\"http://www.w3.org/2000/svg\" height=\"24px\" viewBox=\"0 -960 960 960\">\n",
              "    <path d=\"M120-120v-720h720v720H120Zm60-500h600v-160H180v160Zm220 220h160v-160H400v160Zm0 220h160v-160H400v160ZM180-400h160v-160H180v160Zm440 0h160v-160H620v160ZM180-180h160v-160H180v160Zm440 0h160v-160H620v160Z\"/>\n",
              "  </svg>\n",
              "    </button>\n",
              "\n",
              "  <style>\n",
              "    .colab-df-container {\n",
              "      display:flex;\n",
              "      gap: 12px;\n",
              "    }\n",
              "\n",
              "    .colab-df-convert {\n",
              "      background-color: #E8F0FE;\n",
              "      border: none;\n",
              "      border-radius: 50%;\n",
              "      cursor: pointer;\n",
              "      display: none;\n",
              "      fill: #1967D2;\n",
              "      height: 32px;\n",
              "      padding: 0 0 0 0;\n",
              "      width: 32px;\n",
              "    }\n",
              "\n",
              "    .colab-df-convert:hover {\n",
              "      background-color: #E2EBFA;\n",
              "      box-shadow: 0px 1px 2px rgba(60, 64, 67, 0.3), 0px 1px 3px 1px rgba(60, 64, 67, 0.15);\n",
              "      fill: #174EA6;\n",
              "    }\n",
              "\n",
              "    .colab-df-buttons div {\n",
              "      margin-bottom: 4px;\n",
              "    }\n",
              "\n",
              "    [theme=dark] .colab-df-convert {\n",
              "      background-color: #3B4455;\n",
              "      fill: #D2E3FC;\n",
              "    }\n",
              "\n",
              "    [theme=dark] .colab-df-convert:hover {\n",
              "      background-color: #434B5C;\n",
              "      box-shadow: 0px 1px 3px 1px rgba(0, 0, 0, 0.15);\n",
              "      filter: drop-shadow(0px 1px 2px rgba(0, 0, 0, 0.3));\n",
              "      fill: #FFFFFF;\n",
              "    }\n",
              "  </style>\n",
              "\n",
              "    <script>\n",
              "      const buttonEl =\n",
              "        document.querySelector('#df-7db68928-c9db-4391-be18-1a777f256482 button.colab-df-convert');\n",
              "      buttonEl.style.display =\n",
              "        google.colab.kernel.accessAllowed ? 'block' : 'none';\n",
              "\n",
              "      async function convertToInteractive(key) {\n",
              "        const element = document.querySelector('#df-7db68928-c9db-4391-be18-1a777f256482');\n",
              "        const dataTable =\n",
              "          await google.colab.kernel.invokeFunction('convertToInteractive',\n",
              "                                                    [key], {});\n",
              "        if (!dataTable) return;\n",
              "\n",
              "        const docLinkHtml = 'Like what you see? Visit the ' +\n",
              "          '<a target=\"_blank\" href=https://colab.research.google.com/notebooks/data_table.ipynb>data table notebook</a>'\n",
              "          + ' to learn more about interactive tables.';\n",
              "        element.innerHTML = '';\n",
              "        dataTable['output_type'] = 'display_data';\n",
              "        await google.colab.output.renderOutput(dataTable, element);\n",
              "        const docLink = document.createElement('div');\n",
              "        docLink.innerHTML = docLinkHtml;\n",
              "        element.appendChild(docLink);\n",
              "      }\n",
              "    </script>\n",
              "  </div>\n",
              "\n",
              "\n",
              "    <div id=\"df-5922b534-f148-4f59-89b2-9c8b46e20776\">\n",
              "      <button class=\"colab-df-quickchart\" onclick=\"quickchart('df-5922b534-f148-4f59-89b2-9c8b46e20776')\"\n",
              "                title=\"Suggest charts\"\n",
              "                style=\"display:none;\">\n",
              "\n",
              "<svg xmlns=\"http://www.w3.org/2000/svg\" height=\"24px\"viewBox=\"0 0 24 24\"\n",
              "     width=\"24px\">\n",
              "    <g>\n",
              "        <path d=\"M19 3H5c-1.1 0-2 .9-2 2v14c0 1.1.9 2 2 2h14c1.1 0 2-.9 2-2V5c0-1.1-.9-2-2-2zM9 17H7v-7h2v7zm4 0h-2V7h2v10zm4 0h-2v-4h2v4z\"/>\n",
              "    </g>\n",
              "</svg>\n",
              "      </button>\n",
              "\n",
              "<style>\n",
              "  .colab-df-quickchart {\n",
              "      --bg-color: #E8F0FE;\n",
              "      --fill-color: #1967D2;\n",
              "      --hover-bg-color: #E2EBFA;\n",
              "      --hover-fill-color: #174EA6;\n",
              "      --disabled-fill-color: #AAA;\n",
              "      --disabled-bg-color: #DDD;\n",
              "  }\n",
              "\n",
              "  [theme=dark] .colab-df-quickchart {\n",
              "      --bg-color: #3B4455;\n",
              "      --fill-color: #D2E3FC;\n",
              "      --hover-bg-color: #434B5C;\n",
              "      --hover-fill-color: #FFFFFF;\n",
              "      --disabled-bg-color: #3B4455;\n",
              "      --disabled-fill-color: #666;\n",
              "  }\n",
              "\n",
              "  .colab-df-quickchart {\n",
              "    background-color: var(--bg-color);\n",
              "    border: none;\n",
              "    border-radius: 50%;\n",
              "    cursor: pointer;\n",
              "    display: none;\n",
              "    fill: var(--fill-color);\n",
              "    height: 32px;\n",
              "    padding: 0;\n",
              "    width: 32px;\n",
              "  }\n",
              "\n",
              "  .colab-df-quickchart:hover {\n",
              "    background-color: var(--hover-bg-color);\n",
              "    box-shadow: 0 1px 2px rgba(60, 64, 67, 0.3), 0 1px 3px 1px rgba(60, 64, 67, 0.15);\n",
              "    fill: var(--button-hover-fill-color);\n",
              "  }\n",
              "\n",
              "  .colab-df-quickchart-complete:disabled,\n",
              "  .colab-df-quickchart-complete:disabled:hover {\n",
              "    background-color: var(--disabled-bg-color);\n",
              "    fill: var(--disabled-fill-color);\n",
              "    box-shadow: none;\n",
              "  }\n",
              "\n",
              "  .colab-df-spinner {\n",
              "    border: 2px solid var(--fill-color);\n",
              "    border-color: transparent;\n",
              "    border-bottom-color: var(--fill-color);\n",
              "    animation:\n",
              "      spin 1s steps(1) infinite;\n",
              "  }\n",
              "\n",
              "  @keyframes spin {\n",
              "    0% {\n",
              "      border-color: transparent;\n",
              "      border-bottom-color: var(--fill-color);\n",
              "      border-left-color: var(--fill-color);\n",
              "    }\n",
              "    20% {\n",
              "      border-color: transparent;\n",
              "      border-left-color: var(--fill-color);\n",
              "      border-top-color: var(--fill-color);\n",
              "    }\n",
              "    30% {\n",
              "      border-color: transparent;\n",
              "      border-left-color: var(--fill-color);\n",
              "      border-top-color: var(--fill-color);\n",
              "      border-right-color: var(--fill-color);\n",
              "    }\n",
              "    40% {\n",
              "      border-color: transparent;\n",
              "      border-right-color: var(--fill-color);\n",
              "      border-top-color: var(--fill-color);\n",
              "    }\n",
              "    60% {\n",
              "      border-color: transparent;\n",
              "      border-right-color: var(--fill-color);\n",
              "    }\n",
              "    80% {\n",
              "      border-color: transparent;\n",
              "      border-right-color: var(--fill-color);\n",
              "      border-bottom-color: var(--fill-color);\n",
              "    }\n",
              "    90% {\n",
              "      border-color: transparent;\n",
              "      border-bottom-color: var(--fill-color);\n",
              "    }\n",
              "  }\n",
              "</style>\n",
              "\n",
              "      <script>\n",
              "        async function quickchart(key) {\n",
              "          const quickchartButtonEl =\n",
              "            document.querySelector('#' + key + ' button');\n",
              "          quickchartButtonEl.disabled = true;  // To prevent multiple clicks.\n",
              "          quickchartButtonEl.classList.add('colab-df-spinner');\n",
              "          try {\n",
              "            const charts = await google.colab.kernel.invokeFunction(\n",
              "                'suggestCharts', [key], {});\n",
              "          } catch (error) {\n",
              "            console.error('Error during call to suggestCharts:', error);\n",
              "          }\n",
              "          quickchartButtonEl.classList.remove('colab-df-spinner');\n",
              "          quickchartButtonEl.classList.add('colab-df-quickchart-complete');\n",
              "        }\n",
              "        (() => {\n",
              "          let quickchartButtonEl =\n",
              "            document.querySelector('#df-5922b534-f148-4f59-89b2-9c8b46e20776 button');\n",
              "          quickchartButtonEl.style.display =\n",
              "            google.colab.kernel.accessAllowed ? 'block' : 'none';\n",
              "        })();\n",
              "      </script>\n",
              "    </div>\n",
              "\n",
              "    </div>\n",
              "  </div>\n"
            ],
            "application/vnd.google.colaboratory.intrinsic+json": {
              "type": "dataframe",
              "variable_name": "df"
            }
          },
          "metadata": {},
          "execution_count": 8
        }
      ]
    },
    {
      "cell_type": "code",
      "source": [
        "# Data types and missing values\n",
        "df.info()"
      ],
      "metadata": {
        "colab": {
          "base_uri": "https://localhost:8080/"
        },
        "id": "hkoe6I2gl7sf",
        "outputId": "e0dcec26-dc30-4582-9c7f-76076a07d45e"
      },
      "execution_count": 9,
      "outputs": [
        {
          "output_type": "stream",
          "name": "stdout",
          "text": [
            "<class 'pandas.core.frame.DataFrame'>\n",
            "RangeIndex: 15549 entries, 0 to 15548\n",
            "Data columns (total 41 columns):\n",
            " #   Column                    Non-Null Count  Dtype  \n",
            "---  ------                    --------------  -----  \n",
            " 0   payment_type              15549 non-null  object \n",
            " 1   profit_per_order          15549 non-null  float64\n",
            " 2   sales_per_customer        15549 non-null  float64\n",
            " 3   category_id               15549 non-null  float64\n",
            " 4   category_name             15549 non-null  object \n",
            " 5   customer_city             15549 non-null  object \n",
            " 6   customer_country          15549 non-null  object \n",
            " 7   customer_id               15549 non-null  float64\n",
            " 8   customer_segment          15549 non-null  object \n",
            " 9   customer_state            15549 non-null  object \n",
            " 10  customer_zipcode          15549 non-null  float64\n",
            " 11  department_id             15549 non-null  float64\n",
            " 12  department_name           15549 non-null  object \n",
            " 13  latitude                  15549 non-null  float64\n",
            " 14  longitude                 15549 non-null  float64\n",
            " 15  market                    15549 non-null  object \n",
            " 16  order_city                15549 non-null  object \n",
            " 17  order_country             15549 non-null  object \n",
            " 18  order_customer_id         15549 non-null  float64\n",
            " 19  order_date                15549 non-null  object \n",
            " 20  order_id                  15549 non-null  float64\n",
            " 21  order_item_cardprod_id    15549 non-null  float64\n",
            " 22  order_item_discount       15549 non-null  float64\n",
            " 23  order_item_discount_rate  15549 non-null  float64\n",
            " 24  order_item_id             15549 non-null  float64\n",
            " 25  order_item_product_price  15549 non-null  float64\n",
            " 26  order_item_profit_ratio   15549 non-null  float64\n",
            " 27  order_item_quantity       15549 non-null  float64\n",
            " 28  sales                     15549 non-null  float64\n",
            " 29  order_item_total_amount   15549 non-null  float64\n",
            " 30  order_profit_per_order    15549 non-null  float64\n",
            " 31  order_region              15549 non-null  object \n",
            " 32  order_state               15549 non-null  object \n",
            " 33  order_status              15549 non-null  object \n",
            " 34  product_card_id           15549 non-null  float64\n",
            " 35  product_category_id       15549 non-null  float64\n",
            " 36  product_name              15549 non-null  object \n",
            " 37  product_price             15549 non-null  float64\n",
            " 38  shipping_date             15549 non-null  object \n",
            " 39  shipping_mode             15549 non-null  object \n",
            " 40  label                     15549 non-null  int64  \n",
            "dtypes: float64(23), int64(1), object(17)\n",
            "memory usage: 4.9+ MB\n"
          ]
        }
      ]
    },
    {
      "cell_type": "markdown",
      "source": [
        "# Descriptive Statistics for Numerical Variables"
      ],
      "metadata": {
        "id": "CduPrkeYm9yM"
      }
    },
    {
      "cell_type": "code",
      "source": [
        "# Summary Statistics for numeric columns\n",
        "df.describe()"
      ],
      "metadata": {
        "colab": {
          "base_uri": "https://localhost:8080/",
          "height": 349
        },
        "id": "ehybDWhFmFfP",
        "outputId": "a533c2a5-a15b-40e5-9181-7e3f18dcef07"
      },
      "execution_count": 10,
      "outputs": [
        {
          "output_type": "execute_result",
          "data": {
            "text/plain": [
              "       profit_per_order  sales_per_customer   category_id   customer_id  \\\n",
              "count      15549.000000        15549.000000  15549.000000  15549.000000   \n",
              "mean          22.604542          179.888256     31.461342   6583.279789   \n",
              "std           99.265198          113.727323     15.303616   4114.273782   \n",
              "min        -3442.500000            8.351162      2.000000      1.000000   \n",
              "25%            7.562795          104.397330     18.000000   3119.983200   \n",
              "50%           31.693370          165.944170     29.000000   6429.229000   \n",
              "75%           63.872166          242.440930     45.000000   9642.381000   \n",
              "max          911.800000         1939.990000     76.000000  20757.000000   \n",
              "\n",
              "       customer_zipcode  department_id      latitude     longitude  \\\n",
              "count      15549.000000   15549.000000  15549.000000  15549.000000   \n",
              "mean       35458.234968       5.413462     29.677619    -84.512318   \n",
              "std        37343.702033       1.581550      9.877876     20.681015   \n",
              "min          603.000000       2.000000    -33.937553   -158.025990   \n",
              "25%          725.000000       4.000000     18.263327    -98.088170   \n",
              "50%        19145.775000       5.000000     33.435677    -76.580800   \n",
              "75%        77502.820000       7.000000     39.277313    -66.370575   \n",
              "max        99205.000000      12.000000     48.781933    115.263080   \n",
              "\n",
              "       order_customer_id      order_id  ...  order_item_product_price  \\\n",
              "count       15549.000000  15549.000000  ...              15549.000000   \n",
              "mean         6586.810354  35718.970019  ...                137.005272   \n",
              "std          4101.324290  21071.742668  ...                134.545269   \n",
              "min             1.000000      1.000000  ...                  9.990000   \n",
              "25%          3177.568800  16530.752000  ...                 50.000000   \n",
              "50%          6308.530000  35391.336000  ...                 59.990000   \n",
              "75%          9703.070000  55236.910000  ...                199.990000   \n",
              "max         20757.000000  77204.000000  ...               1999.990000   \n",
              "\n",
              "       order_item_profit_ratio  order_item_quantity         sales  \\\n",
              "count             15549.000000         15549.000000  15549.000000   \n",
              "mean                  0.120391             2.165202    200.562289   \n",
              "std                   0.474088             1.468627    125.984986   \n",
              "min                  -2.750000             1.000000      9.990000   \n",
              "25%                   0.080000             1.000000    119.980000   \n",
              "50%                   0.270000             1.000000    199.920000   \n",
              "75%                   0.360000             3.000000    299.950000   \n",
              "max                   0.500000             5.000000   1999.990000   \n",
              "\n",
              "       order_item_total_amount  order_profit_per_order  product_card_id  \\\n",
              "count             15549.000000            15549.000000     15549.000000   \n",
              "mean                179.780850               22.273342       685.213286   \n",
              "std                 110.999735              117.503163       330.778230   \n",
              "min                   7.490000            -3442.500000        19.000000   \n",
              "25%                 105.570910                7.443977       403.000000   \n",
              "50%                 165.990000               32.440100       627.000000   \n",
              "75%                 242.436400               64.303566      1004.000000   \n",
              "max                1939.990000              911.800000      1363.000000   \n",
              "\n",
              "       product_category_id  product_price         label  \n",
              "count         15549.000000   15549.000000  15549.000000  \n",
              "mean             31.387606     136.629368      0.349283  \n",
              "std              15.256620     133.366285      0.826623  \n",
              "min               2.000000       9.990000     -1.000000  \n",
              "25%              18.000000      50.000000      0.000000  \n",
              "50%              29.000000      59.990000      1.000000  \n",
              "75%              45.000000     199.990000      1.000000  \n",
              "max              76.000000    1999.990000      1.000000  \n",
              "\n",
              "[8 rows x 24 columns]"
            ],
            "text/html": [
              "\n",
              "  <div id=\"df-01af3865-4d01-4f77-84da-d9220717d658\" class=\"colab-df-container\">\n",
              "    <div>\n",
              "<style scoped>\n",
              "    .dataframe tbody tr th:only-of-type {\n",
              "        vertical-align: middle;\n",
              "    }\n",
              "\n",
              "    .dataframe tbody tr th {\n",
              "        vertical-align: top;\n",
              "    }\n",
              "\n",
              "    .dataframe thead th {\n",
              "        text-align: right;\n",
              "    }\n",
              "</style>\n",
              "<table border=\"1\" class=\"dataframe\">\n",
              "  <thead>\n",
              "    <tr style=\"text-align: right;\">\n",
              "      <th></th>\n",
              "      <th>profit_per_order</th>\n",
              "      <th>sales_per_customer</th>\n",
              "      <th>category_id</th>\n",
              "      <th>customer_id</th>\n",
              "      <th>customer_zipcode</th>\n",
              "      <th>department_id</th>\n",
              "      <th>latitude</th>\n",
              "      <th>longitude</th>\n",
              "      <th>order_customer_id</th>\n",
              "      <th>order_id</th>\n",
              "      <th>...</th>\n",
              "      <th>order_item_product_price</th>\n",
              "      <th>order_item_profit_ratio</th>\n",
              "      <th>order_item_quantity</th>\n",
              "      <th>sales</th>\n",
              "      <th>order_item_total_amount</th>\n",
              "      <th>order_profit_per_order</th>\n",
              "      <th>product_card_id</th>\n",
              "      <th>product_category_id</th>\n",
              "      <th>product_price</th>\n",
              "      <th>label</th>\n",
              "    </tr>\n",
              "  </thead>\n",
              "  <tbody>\n",
              "    <tr>\n",
              "      <th>count</th>\n",
              "      <td>15549.000000</td>\n",
              "      <td>15549.000000</td>\n",
              "      <td>15549.000000</td>\n",
              "      <td>15549.000000</td>\n",
              "      <td>15549.000000</td>\n",
              "      <td>15549.000000</td>\n",
              "      <td>15549.000000</td>\n",
              "      <td>15549.000000</td>\n",
              "      <td>15549.000000</td>\n",
              "      <td>15549.000000</td>\n",
              "      <td>...</td>\n",
              "      <td>15549.000000</td>\n",
              "      <td>15549.000000</td>\n",
              "      <td>15549.000000</td>\n",
              "      <td>15549.000000</td>\n",
              "      <td>15549.000000</td>\n",
              "      <td>15549.000000</td>\n",
              "      <td>15549.000000</td>\n",
              "      <td>15549.000000</td>\n",
              "      <td>15549.000000</td>\n",
              "      <td>15549.000000</td>\n",
              "    </tr>\n",
              "    <tr>\n",
              "      <th>mean</th>\n",
              "      <td>22.604542</td>\n",
              "      <td>179.888256</td>\n",
              "      <td>31.461342</td>\n",
              "      <td>6583.279789</td>\n",
              "      <td>35458.234968</td>\n",
              "      <td>5.413462</td>\n",
              "      <td>29.677619</td>\n",
              "      <td>-84.512318</td>\n",
              "      <td>6586.810354</td>\n",
              "      <td>35718.970019</td>\n",
              "      <td>...</td>\n",
              "      <td>137.005272</td>\n",
              "      <td>0.120391</td>\n",
              "      <td>2.165202</td>\n",
              "      <td>200.562289</td>\n",
              "      <td>179.780850</td>\n",
              "      <td>22.273342</td>\n",
              "      <td>685.213286</td>\n",
              "      <td>31.387606</td>\n",
              "      <td>136.629368</td>\n",
              "      <td>0.349283</td>\n",
              "    </tr>\n",
              "    <tr>\n",
              "      <th>std</th>\n",
              "      <td>99.265198</td>\n",
              "      <td>113.727323</td>\n",
              "      <td>15.303616</td>\n",
              "      <td>4114.273782</td>\n",
              "      <td>37343.702033</td>\n",
              "      <td>1.581550</td>\n",
              "      <td>9.877876</td>\n",
              "      <td>20.681015</td>\n",
              "      <td>4101.324290</td>\n",
              "      <td>21071.742668</td>\n",
              "      <td>...</td>\n",
              "      <td>134.545269</td>\n",
              "      <td>0.474088</td>\n",
              "      <td>1.468627</td>\n",
              "      <td>125.984986</td>\n",
              "      <td>110.999735</td>\n",
              "      <td>117.503163</td>\n",
              "      <td>330.778230</td>\n",
              "      <td>15.256620</td>\n",
              "      <td>133.366285</td>\n",
              "      <td>0.826623</td>\n",
              "    </tr>\n",
              "    <tr>\n",
              "      <th>min</th>\n",
              "      <td>-3442.500000</td>\n",
              "      <td>8.351162</td>\n",
              "      <td>2.000000</td>\n",
              "      <td>1.000000</td>\n",
              "      <td>603.000000</td>\n",
              "      <td>2.000000</td>\n",
              "      <td>-33.937553</td>\n",
              "      <td>-158.025990</td>\n",
              "      <td>1.000000</td>\n",
              "      <td>1.000000</td>\n",
              "      <td>...</td>\n",
              "      <td>9.990000</td>\n",
              "      <td>-2.750000</td>\n",
              "      <td>1.000000</td>\n",
              "      <td>9.990000</td>\n",
              "      <td>7.490000</td>\n",
              "      <td>-3442.500000</td>\n",
              "      <td>19.000000</td>\n",
              "      <td>2.000000</td>\n",
              "      <td>9.990000</td>\n",
              "      <td>-1.000000</td>\n",
              "    </tr>\n",
              "    <tr>\n",
              "      <th>25%</th>\n",
              "      <td>7.562795</td>\n",
              "      <td>104.397330</td>\n",
              "      <td>18.000000</td>\n",
              "      <td>3119.983200</td>\n",
              "      <td>725.000000</td>\n",
              "      <td>4.000000</td>\n",
              "      <td>18.263327</td>\n",
              "      <td>-98.088170</td>\n",
              "      <td>3177.568800</td>\n",
              "      <td>16530.752000</td>\n",
              "      <td>...</td>\n",
              "      <td>50.000000</td>\n",
              "      <td>0.080000</td>\n",
              "      <td>1.000000</td>\n",
              "      <td>119.980000</td>\n",
              "      <td>105.570910</td>\n",
              "      <td>7.443977</td>\n",
              "      <td>403.000000</td>\n",
              "      <td>18.000000</td>\n",
              "      <td>50.000000</td>\n",
              "      <td>0.000000</td>\n",
              "    </tr>\n",
              "    <tr>\n",
              "      <th>50%</th>\n",
              "      <td>31.693370</td>\n",
              "      <td>165.944170</td>\n",
              "      <td>29.000000</td>\n",
              "      <td>6429.229000</td>\n",
              "      <td>19145.775000</td>\n",
              "      <td>5.000000</td>\n",
              "      <td>33.435677</td>\n",
              "      <td>-76.580800</td>\n",
              "      <td>6308.530000</td>\n",
              "      <td>35391.336000</td>\n",
              "      <td>...</td>\n",
              "      <td>59.990000</td>\n",
              "      <td>0.270000</td>\n",
              "      <td>1.000000</td>\n",
              "      <td>199.920000</td>\n",
              "      <td>165.990000</td>\n",
              "      <td>32.440100</td>\n",
              "      <td>627.000000</td>\n",
              "      <td>29.000000</td>\n",
              "      <td>59.990000</td>\n",
              "      <td>1.000000</td>\n",
              "    </tr>\n",
              "    <tr>\n",
              "      <th>75%</th>\n",
              "      <td>63.872166</td>\n",
              "      <td>242.440930</td>\n",
              "      <td>45.000000</td>\n",
              "      <td>9642.381000</td>\n",
              "      <td>77502.820000</td>\n",
              "      <td>7.000000</td>\n",
              "      <td>39.277313</td>\n",
              "      <td>-66.370575</td>\n",
              "      <td>9703.070000</td>\n",
              "      <td>55236.910000</td>\n",
              "      <td>...</td>\n",
              "      <td>199.990000</td>\n",
              "      <td>0.360000</td>\n",
              "      <td>3.000000</td>\n",
              "      <td>299.950000</td>\n",
              "      <td>242.436400</td>\n",
              "      <td>64.303566</td>\n",
              "      <td>1004.000000</td>\n",
              "      <td>45.000000</td>\n",
              "      <td>199.990000</td>\n",
              "      <td>1.000000</td>\n",
              "    </tr>\n",
              "    <tr>\n",
              "      <th>max</th>\n",
              "      <td>911.800000</td>\n",
              "      <td>1939.990000</td>\n",
              "      <td>76.000000</td>\n",
              "      <td>20757.000000</td>\n",
              "      <td>99205.000000</td>\n",
              "      <td>12.000000</td>\n",
              "      <td>48.781933</td>\n",
              "      <td>115.263080</td>\n",
              "      <td>20757.000000</td>\n",
              "      <td>77204.000000</td>\n",
              "      <td>...</td>\n",
              "      <td>1999.990000</td>\n",
              "      <td>0.500000</td>\n",
              "      <td>5.000000</td>\n",
              "      <td>1999.990000</td>\n",
              "      <td>1939.990000</td>\n",
              "      <td>911.800000</td>\n",
              "      <td>1363.000000</td>\n",
              "      <td>76.000000</td>\n",
              "      <td>1999.990000</td>\n",
              "      <td>1.000000</td>\n",
              "    </tr>\n",
              "  </tbody>\n",
              "</table>\n",
              "<p>8 rows × 24 columns</p>\n",
              "</div>\n",
              "    <div class=\"colab-df-buttons\">\n",
              "\n",
              "  <div class=\"colab-df-container\">\n",
              "    <button class=\"colab-df-convert\" onclick=\"convertToInteractive('df-01af3865-4d01-4f77-84da-d9220717d658')\"\n",
              "            title=\"Convert this dataframe to an interactive table.\"\n",
              "            style=\"display:none;\">\n",
              "\n",
              "  <svg xmlns=\"http://www.w3.org/2000/svg\" height=\"24px\" viewBox=\"0 -960 960 960\">\n",
              "    <path d=\"M120-120v-720h720v720H120Zm60-500h600v-160H180v160Zm220 220h160v-160H400v160Zm0 220h160v-160H400v160ZM180-400h160v-160H180v160Zm440 0h160v-160H620v160ZM180-180h160v-160H180v160Zm440 0h160v-160H620v160Z\"/>\n",
              "  </svg>\n",
              "    </button>\n",
              "\n",
              "  <style>\n",
              "    .colab-df-container {\n",
              "      display:flex;\n",
              "      gap: 12px;\n",
              "    }\n",
              "\n",
              "    .colab-df-convert {\n",
              "      background-color: #E8F0FE;\n",
              "      border: none;\n",
              "      border-radius: 50%;\n",
              "      cursor: pointer;\n",
              "      display: none;\n",
              "      fill: #1967D2;\n",
              "      height: 32px;\n",
              "      padding: 0 0 0 0;\n",
              "      width: 32px;\n",
              "    }\n",
              "\n",
              "    .colab-df-convert:hover {\n",
              "      background-color: #E2EBFA;\n",
              "      box-shadow: 0px 1px 2px rgba(60, 64, 67, 0.3), 0px 1px 3px 1px rgba(60, 64, 67, 0.15);\n",
              "      fill: #174EA6;\n",
              "    }\n",
              "\n",
              "    .colab-df-buttons div {\n",
              "      margin-bottom: 4px;\n",
              "    }\n",
              "\n",
              "    [theme=dark] .colab-df-convert {\n",
              "      background-color: #3B4455;\n",
              "      fill: #D2E3FC;\n",
              "    }\n",
              "\n",
              "    [theme=dark] .colab-df-convert:hover {\n",
              "      background-color: #434B5C;\n",
              "      box-shadow: 0px 1px 3px 1px rgba(0, 0, 0, 0.15);\n",
              "      filter: drop-shadow(0px 1px 2px rgba(0, 0, 0, 0.3));\n",
              "      fill: #FFFFFF;\n",
              "    }\n",
              "  </style>\n",
              "\n",
              "    <script>\n",
              "      const buttonEl =\n",
              "        document.querySelector('#df-01af3865-4d01-4f77-84da-d9220717d658 button.colab-df-convert');\n",
              "      buttonEl.style.display =\n",
              "        google.colab.kernel.accessAllowed ? 'block' : 'none';\n",
              "\n",
              "      async function convertToInteractive(key) {\n",
              "        const element = document.querySelector('#df-01af3865-4d01-4f77-84da-d9220717d658');\n",
              "        const dataTable =\n",
              "          await google.colab.kernel.invokeFunction('convertToInteractive',\n",
              "                                                    [key], {});\n",
              "        if (!dataTable) return;\n",
              "\n",
              "        const docLinkHtml = 'Like what you see? Visit the ' +\n",
              "          '<a target=\"_blank\" href=https://colab.research.google.com/notebooks/data_table.ipynb>data table notebook</a>'\n",
              "          + ' to learn more about interactive tables.';\n",
              "        element.innerHTML = '';\n",
              "        dataTable['output_type'] = 'display_data';\n",
              "        await google.colab.output.renderOutput(dataTable, element);\n",
              "        const docLink = document.createElement('div');\n",
              "        docLink.innerHTML = docLinkHtml;\n",
              "        element.appendChild(docLink);\n",
              "      }\n",
              "    </script>\n",
              "  </div>\n",
              "\n",
              "\n",
              "    <div id=\"df-8e6cd24e-d2f1-4849-98e8-02ab8e90be01\">\n",
              "      <button class=\"colab-df-quickchart\" onclick=\"quickchart('df-8e6cd24e-d2f1-4849-98e8-02ab8e90be01')\"\n",
              "                title=\"Suggest charts\"\n",
              "                style=\"display:none;\">\n",
              "\n",
              "<svg xmlns=\"http://www.w3.org/2000/svg\" height=\"24px\"viewBox=\"0 0 24 24\"\n",
              "     width=\"24px\">\n",
              "    <g>\n",
              "        <path d=\"M19 3H5c-1.1 0-2 .9-2 2v14c0 1.1.9 2 2 2h14c1.1 0 2-.9 2-2V5c0-1.1-.9-2-2-2zM9 17H7v-7h2v7zm4 0h-2V7h2v10zm4 0h-2v-4h2v4z\"/>\n",
              "    </g>\n",
              "</svg>\n",
              "      </button>\n",
              "\n",
              "<style>\n",
              "  .colab-df-quickchart {\n",
              "      --bg-color: #E8F0FE;\n",
              "      --fill-color: #1967D2;\n",
              "      --hover-bg-color: #E2EBFA;\n",
              "      --hover-fill-color: #174EA6;\n",
              "      --disabled-fill-color: #AAA;\n",
              "      --disabled-bg-color: #DDD;\n",
              "  }\n",
              "\n",
              "  [theme=dark] .colab-df-quickchart {\n",
              "      --bg-color: #3B4455;\n",
              "      --fill-color: #D2E3FC;\n",
              "      --hover-bg-color: #434B5C;\n",
              "      --hover-fill-color: #FFFFFF;\n",
              "      --disabled-bg-color: #3B4455;\n",
              "      --disabled-fill-color: #666;\n",
              "  }\n",
              "\n",
              "  .colab-df-quickchart {\n",
              "    background-color: var(--bg-color);\n",
              "    border: none;\n",
              "    border-radius: 50%;\n",
              "    cursor: pointer;\n",
              "    display: none;\n",
              "    fill: var(--fill-color);\n",
              "    height: 32px;\n",
              "    padding: 0;\n",
              "    width: 32px;\n",
              "  }\n",
              "\n",
              "  .colab-df-quickchart:hover {\n",
              "    background-color: var(--hover-bg-color);\n",
              "    box-shadow: 0 1px 2px rgba(60, 64, 67, 0.3), 0 1px 3px 1px rgba(60, 64, 67, 0.15);\n",
              "    fill: var(--button-hover-fill-color);\n",
              "  }\n",
              "\n",
              "  .colab-df-quickchart-complete:disabled,\n",
              "  .colab-df-quickchart-complete:disabled:hover {\n",
              "    background-color: var(--disabled-bg-color);\n",
              "    fill: var(--disabled-fill-color);\n",
              "    box-shadow: none;\n",
              "  }\n",
              "\n",
              "  .colab-df-spinner {\n",
              "    border: 2px solid var(--fill-color);\n",
              "    border-color: transparent;\n",
              "    border-bottom-color: var(--fill-color);\n",
              "    animation:\n",
              "      spin 1s steps(1) infinite;\n",
              "  }\n",
              "\n",
              "  @keyframes spin {\n",
              "    0% {\n",
              "      border-color: transparent;\n",
              "      border-bottom-color: var(--fill-color);\n",
              "      border-left-color: var(--fill-color);\n",
              "    }\n",
              "    20% {\n",
              "      border-color: transparent;\n",
              "      border-left-color: var(--fill-color);\n",
              "      border-top-color: var(--fill-color);\n",
              "    }\n",
              "    30% {\n",
              "      border-color: transparent;\n",
              "      border-left-color: var(--fill-color);\n",
              "      border-top-color: var(--fill-color);\n",
              "      border-right-color: var(--fill-color);\n",
              "    }\n",
              "    40% {\n",
              "      border-color: transparent;\n",
              "      border-right-color: var(--fill-color);\n",
              "      border-top-color: var(--fill-color);\n",
              "    }\n",
              "    60% {\n",
              "      border-color: transparent;\n",
              "      border-right-color: var(--fill-color);\n",
              "    }\n",
              "    80% {\n",
              "      border-color: transparent;\n",
              "      border-right-color: var(--fill-color);\n",
              "      border-bottom-color: var(--fill-color);\n",
              "    }\n",
              "    90% {\n",
              "      border-color: transparent;\n",
              "      border-bottom-color: var(--fill-color);\n",
              "    }\n",
              "  }\n",
              "</style>\n",
              "\n",
              "      <script>\n",
              "        async function quickchart(key) {\n",
              "          const quickchartButtonEl =\n",
              "            document.querySelector('#' + key + ' button');\n",
              "          quickchartButtonEl.disabled = true;  // To prevent multiple clicks.\n",
              "          quickchartButtonEl.classList.add('colab-df-spinner');\n",
              "          try {\n",
              "            const charts = await google.colab.kernel.invokeFunction(\n",
              "                'suggestCharts', [key], {});\n",
              "          } catch (error) {\n",
              "            console.error('Error during call to suggestCharts:', error);\n",
              "          }\n",
              "          quickchartButtonEl.classList.remove('colab-df-spinner');\n",
              "          quickchartButtonEl.classList.add('colab-df-quickchart-complete');\n",
              "        }\n",
              "        (() => {\n",
              "          let quickchartButtonEl =\n",
              "            document.querySelector('#df-8e6cd24e-d2f1-4849-98e8-02ab8e90be01 button');\n",
              "          quickchartButtonEl.style.display =\n",
              "            google.colab.kernel.accessAllowed ? 'block' : 'none';\n",
              "        })();\n",
              "      </script>\n",
              "    </div>\n",
              "\n",
              "    </div>\n",
              "  </div>\n"
            ],
            "application/vnd.google.colaboratory.intrinsic+json": {
              "type": "dataframe"
            }
          },
          "metadata": {},
          "execution_count": 10
        }
      ]
    },
    {
      "cell_type": "markdown",
      "source": [
        "# Descriptive Statistics for Categorical Variables"
      ],
      "metadata": {
        "id": "yBBoxqdcm67U"
      }
    },
    {
      "cell_type": "code",
      "source": [
        "\n",
        "# Unique values for key categorical columns\n",
        "\n",
        "print(df['shipping_mode'].value_counts())\n",
        "print(\"\\n\")\n",
        "print(df['customer_segment'].value_counts())\n",
        "print(\"\\n\")\n",
        "print(df['order_status'].value_counts())\n",
        "print(\"\\n\")\n",
        "print(df['customer_country'].value_counts())\n",
        "print(\"\\n\")\n",
        "print(df['order_region'].value_counts())\n"
      ],
      "metadata": {
        "colab": {
          "base_uri": "https://localhost:8080/"
        },
        "id": "3S2NaVtimxCJ",
        "outputId": "059feafb-d260-4930-a292-5cbe906a5211"
      },
      "execution_count": 11,
      "outputs": [
        {
          "output_type": "stream",
          "name": "stdout",
          "text": [
            "shipping_mode\n",
            "Standard Class    9116\n",
            "Second Class      3283\n",
            "First Class       2391\n",
            "Same Day           759\n",
            "Name: count, dtype: int64\n",
            "\n",
            "\n",
            "customer_segment\n",
            "Consumer       8332\n",
            "Corporate      4603\n",
            "Home Office    2614\n",
            "Name: count, dtype: int64\n",
            "\n",
            "\n",
            "order_status\n",
            "COMPLETE           5290\n",
            "PENDING_PAYMENT    3826\n",
            "PROCESSING         2046\n",
            "PENDING            1807\n",
            "CLOSED             1763\n",
            "ON_HOLD             761\n",
            "PAYMENT_REVIEW       56\n",
            "Name: count, dtype: int64\n",
            "\n",
            "\n",
            "customer_country\n",
            "EE. UU.        9438\n",
            "Puerto Rico    6111\n",
            "Name: count, dtype: int64\n",
            "\n",
            "\n",
            "order_region\n",
            "Western Europe     2513\n",
            "Central America    2469\n",
            "South America      1223\n",
            "Northern Europe     900\n",
            "Oceania             898\n",
            "Southern Europe     861\n",
            "Southeast Asia      849\n",
            "Caribbean           690\n",
            "Eastern Asia        683\n",
            "West of USA         641\n",
            "East of USA         603\n",
            "West Asia           569\n",
            "South Asia          559\n",
            "US Center           474\n",
            "South of  USA       335\n",
            "West Africa         300\n",
            "Eastern Europe      251\n",
            "North Africa        244\n",
            "East Africa         228\n",
            "Central Africa      115\n",
            "Canada               74\n",
            "Southern Africa      60\n",
            "Central Asia         10\n",
            "Name: count, dtype: int64\n"
          ]
        }
      ]
    },
    {
      "cell_type": "markdown",
      "source": [
        "# Target Variable Distribution (Delivery Outcome)"
      ],
      "metadata": {
        "id": "Vg8vxs7SnNey"
      }
    },
    {
      "cell_type": "code",
      "source": [
        "import seaborn as sns\n",
        "import matplotlib.pyplot as plt\n",
        "\n",
        "# Countplot for delivery outcomes\n",
        "sns.countplot(data=df, x='label')\n",
        "plt.title('Delivery Outcome Distribution (-1 = Late, 0 = On-Time, 1 = Early)')\n",
        "plt.show()\n",
        "\n",
        "# Numeric counts\n",
        "df['label'].value_counts()\n"
      ],
      "metadata": {
        "colab": {
          "base_uri": "https://localhost:8080/",
          "height": 664
        },
        "id": "MB72hvmunPjV",
        "outputId": "c6568220-aaf7-4556-c366-714eb06b108c"
      },
      "execution_count": 12,
      "outputs": [
        {
          "output_type": "display_data",
          "data": {
            "text/plain": [
              "<Figure size 640x480 with 1 Axes>"
            ],
            "image/png": "[encoded data removed]"
          },
          "metadata": {}
        },
        {
          "output_type": "execute_result",
          "data": {
            "text/plain": [
              "label\n",
              " 1    8976\n",
              "-1    3545\n",
              " 0    3028\n",
              "Name: count, dtype: int64"
            ],
            "text/html": [
              "<div>\n",
              "<style scoped>\n",
              "    .dataframe tbody tr th:only-of-type {\n",
              "        vertical-align: middle;\n",
              "    }\n",
              "\n",
              "    .dataframe tbody tr th {\n",
              "        vertical-align: top;\n",
              "    }\n",
              "\n",
              "    .dataframe thead th {\n",
              "        text-align: right;\n",
              "    }\n",
              "</style>\n",
              "<table border=\"1\" class=\"dataframe\">\n",
              "  <thead>\n",
              "    <tr style=\"text-align: right;\">\n",
              "      <th></th>\n",
              "      <th>count</th>\n",
              "    </tr>\n",
              "    <tr>\n",
              "      <th>label</th>\n",
              "      <th></th>\n",
              "    </tr>\n",
              "  </thead>\n",
              "  <tbody>\n",
              "    <tr>\n",
              "      <th>1</th>\n",
              "      <td>8976</td>\n",
              "    </tr>\n",
              "    <tr>\n",
              "      <th>-1</th>\n",
              "      <td>3545</td>\n",
              "    </tr>\n",
              "    <tr>\n",
              "      <th>0</th>\n",
              "      <td>3028</td>\n",
              "    </tr>\n",
              "  </tbody>\n",
              "</table>\n",
              "</div><br><label><b>dtype:</b> int64</label>"
            ]
          },
          "metadata": {},
          "execution_count": 12
        }
      ]
    },
    {
      "cell_type": "markdown",
      "source": [
        "# Missing Values Detection"
      ],
      "metadata": {
        "id": "4b0P5aJynabz"
      }
    },
    {
      "cell_type": "code",
      "source": [
        "# Check for missing values in all columns\n",
        "df.isnull().sum()\n"
      ],
      "metadata": {
        "colab": {
          "base_uri": "https://localhost:8080/",
          "height": 1000
        },
        "id": "7JcIAMlZnco_",
        "outputId": "2152eab2-ba22-4927-964a-d02d9638c19a"
      },
      "execution_count": 13,
      "outputs": [
        {
          "output_type": "execute_result",
          "data": {
            "text/plain": [
              "payment_type                0\n",
              "profit_per_order            0\n",
              "sales_per_customer          0\n",
              "category_id                 0\n",
              "category_name               0\n",
              "customer_city               0\n",
              "customer_country            0\n",
              "customer_id                 0\n",
              "customer_segment            0\n",
              "customer_state              0\n",
              "customer_zipcode            0\n",
              "department_id               0\n",
              "department_name             0\n",
              "latitude                    0\n",
              "longitude                   0\n",
              "market                      0\n",
              "order_city                  0\n",
              "order_country               0\n",
              "order_customer_id           0\n",
              "order_date                  0\n",
              "order_id                    0\n",
              "order_item_cardprod_id      0\n",
              "order_item_discount         0\n",
              "order_item_discount_rate    0\n",
              "order_item_id               0\n",
              "order_item_product_price    0\n",
              "order_item_profit_ratio     0\n",
              "order_item_quantity         0\n",
              "sales                       0\n",
              "order_item_total_amount     0\n",
              "order_profit_per_order      0\n",
              "order_region                0\n",
              "order_state                 0\n",
              "order_status                0\n",
              "product_card_id             0\n",
              "product_category_id         0\n",
              "product_name                0\n",
              "product_price               0\n",
              "shipping_date               0\n",
              "shipping_mode               0\n",
              "label                       0\n",
              "dtype: int64"
            ],
            "text/html": [
              "<div>\n",
              "<style scoped>\n",
              "    .dataframe tbody tr th:only-of-type {\n",
              "        vertical-align: middle;\n",
              "    }\n",
              "\n",
              "    .dataframe tbody tr th {\n",
              "        vertical-align: top;\n",
              "    }\n",
              "\n",
              "    .dataframe thead th {\n",
              "        text-align: right;\n",
              "    }\n",
              "</style>\n",
              "<table border=\"1\" class=\"dataframe\">\n",
              "  <thead>\n",
              "    <tr style=\"text-align: right;\">\n",
              "      <th></th>\n",
              "      <th>0</th>\n",
              "    </tr>\n",
              "  </thead>\n",
              "  <tbody>\n",
              "    <tr>\n",
              "      <th>payment_type</th>\n",
              "      <td>0</td>\n",
              "    </tr>\n",
              "    <tr>\n",
              "      <th>profit_per_order</th>\n",
              "      <td>0</td>\n",
              "    </tr>\n",
              "    <tr>\n",
              "      <th>sales_per_customer</th>\n",
              "      <td>0</td>\n",
              "    </tr>\n",
              "    <tr>\n",
              "      <th>category_id</th>\n",
              "      <td>0</td>\n",
              "    </tr>\n",
              "    <tr>\n",
              "      <th>category_name</th>\n",
              "      <td>0</td>\n",
              "    </tr>\n",
              "    <tr>\n",
              "      <th>customer_city</th>\n",
              "      <td>0</td>\n",
              "    </tr>\n",
              "    <tr>\n",
              "      <th>customer_country</th>\n",
              "      <td>0</td>\n",
              "    </tr>\n",
              "    <tr>\n",
              "      <th>customer_id</th>\n",
              "      <td>0</td>\n",
              "    </tr>\n",
              "    <tr>\n",
              "      <th>customer_segment</th>\n",
              "      <td>0</td>\n",
              "    </tr>\n",
              "    <tr>\n",
              "      <th>customer_state</th>\n",
              "      <td>0</td>\n",
              "    </tr>\n",
              "    <tr>\n",
              "      <th>customer_zipcode</th>\n",
              "      <td>0</td>\n",
              "    </tr>\n",
              "    <tr>\n",
              "      <th>department_id</th>\n",
              "      <td>0</td>\n",
              "    </tr>\n",
              "    <tr>\n",
              "      <th>department_name</th>\n",
              "      <td>0</td>\n",
              "    </tr>\n",
              "    <tr>\n",
              "      <th>latitude</th>\n",
              "      <td>0</td>\n",
              "    </tr>\n",
              "    <tr>\n",
              "      <th>longitude</th>\n",
              "      <td>0</td>\n",
              "    </tr>\n",
              "    <tr>\n",
              "      <th>market</th>\n",
              "      <td>0</td>\n",
              "    </tr>\n",
              "    <tr>\n",
              "      <th>order_city</th>\n",
              "      <td>0</td>\n",
              "    </tr>\n",
              "    <tr>\n",
              "      <th>order_country</th>\n",
              "      <td>0</td>\n",
              "    </tr>\n",
              "    <tr>\n",
              "      <th>order_customer_id</th>\n",
              "      <td>0</td>\n",
              "    </tr>\n",
              "    <tr>\n",
              "      <th>order_date</th>\n",
              "      <td>0</td>\n",
              "    </tr>\n",
              "    <tr>\n",
              "      <th>order_id</th>\n",
              "      <td>0</td>\n",
              "    </tr>\n",
              "    <tr>\n",
              "      <th>order_item_cardprod_id</th>\n",
              "      <td>0</td>\n",
              "    </tr>\n",
              "    <tr>\n",
              "      <th>order_item_discount</th>\n",
              "      <td>0</td>\n",
              "    </tr>\n",
              "    <tr>\n",
              "      <th>order_item_discount_rate</th>\n",
              "      <td>0</td>\n",
              "    </tr>\n",
              "    <tr>\n",
              "      <th>order_item_id</th>\n",
              "      <td>0</td>\n",
              "    </tr>\n",
              "    <tr>\n",
              "      <th>order_item_product_price</th>\n",
              "      <td>0</td>\n",
              "    </tr>\n",
              "    <tr>\n",
              "      <th>order_item_profit_ratio</th>\n",
              "      <td>0</td>\n",
              "    </tr>\n",
              "    <tr>\n",
              "      <th>order_item_quantity</th>\n",
              "      <td>0</td>\n",
              "    </tr>\n",
              "    <tr>\n",
              "      <th>sales</th>\n",
              "      <td>0</td>\n",
              "    </tr>\n",
              "    <tr>\n",
              "      <th>order_item_total_amount</th>\n",
              "      <td>0</td>\n",
              "    </tr>\n",
              "    <tr>\n",
              "      <th>order_profit_per_order</th>\n",
              "      <td>0</td>\n",
              "    </tr>\n",
              "    <tr>\n",
              "      <th>order_region</th>\n",
              "      <td>0</td>\n",
              "    </tr>\n",
              "    <tr>\n",
              "      <th>order_state</th>\n",
              "      <td>0</td>\n",
              "    </tr>\n",
              "    <tr>\n",
              "      <th>order_status</th>\n",
              "      <td>0</td>\n",
              "    </tr>\n",
              "    <tr>\n",
              "      <th>product_card_id</th>\n",
              "      <td>0</td>\n",
              "    </tr>\n",
              "    <tr>\n",
              "      <th>product_category_id</th>\n",
              "      <td>0</td>\n",
              "    </tr>\n",
              "    <tr>\n",
              "      <th>product_name</th>\n",
              "      <td>0</td>\n",
              "    </tr>\n",
              "    <tr>\n",
              "      <th>product_price</th>\n",
              "      <td>0</td>\n",
              "    </tr>\n",
              "    <tr>\n",
              "      <th>shipping_date</th>\n",
              "      <td>0</td>\n",
              "    </tr>\n",
              "    <tr>\n",
              "      <th>shipping_mode</th>\n",
              "      <td>0</td>\n",
              "    </tr>\n",
              "    <tr>\n",
              "      <th>label</th>\n",
              "      <td>0</td>\n",
              "    </tr>\n",
              "  </tbody>\n",
              "</table>\n",
              "</div><br><label><b>dtype:</b> int64</label>"
            ]
          },
          "metadata": {},
          "execution_count": 13
        }
      ]
    },
    {
      "cell_type": "markdown",
      "source": [
        "# Visualizing Key Relationships\n",
        "> **Shipping Mode vs Delivery Outcomes**"
      ],
      "metadata": {
        "id": "WroNMNa_nls5"
      }
    },
    {
      "cell_type": "code",
      "source": [
        "sns.countplot(data=df, x='shipping_mode', hue='label')\n",
        "plt.title('Shipping Mode vs Delivery Outcome')\n",
        "plt.xticks(rotation=45)\n",
        "plt.show()"
      ],
      "metadata": {
        "colab": {
          "base_uri": "https://localhost:8080/",
          "height": 542
        },
        "id": "dpN4aH0Zn2Zq",
        "outputId": "60ae4a1b-5e3d-472f-e51b-06935bfb6a51"
      },
      "execution_count": 14,
      "outputs": [
        {
          "output_type": "display_data",
          "data": {
            "text/plain": [
              "<Figure size 640x480 with 1 Axes>"
            ],
            "image/png": "[encoded data removed]"
          },
          "metadata": {}
        }
      ]
    },
    {
      "cell_type": "markdown",
      "source": [
        "> **Customer Country vs Delivery Outcome**"
      ],
      "metadata": {
        "id": "Dxmf8dwkn7WZ"
      }
    },
    {
      "cell_type": "code",
      "source": [
        "plt.figure(figsize=(8,4))\n",
        "sns.countplot(data=df, x='customer_country', hue='label')\n",
        "plt.title('Delivery Outcome by Customer Country')\n",
        "plt.xticks(rotation=45)\n",
        "plt.show()"
      ],
      "metadata": {
        "colab": {
          "base_uri": "https://localhost:8080/",
          "height": 462
        },
        "id": "KCZdAZr8n_CX",
        "outputId": "854d67fd-0b11-44d7-9ae8-7578ff176166"
      },
      "execution_count": 15,
      "outputs": [
        {
          "output_type": "display_data",
          "data": {
            "text/plain": [
              "<Figure size 800x400 with 1 Axes>"
            ],
            "image/png": "[encoded data removed]"
          },
          "metadata": {}
        }
      ]
    },
    {
      "cell_type": "markdown",
      "source": [
        "> **Profit per Order vs Delivery Outcome**"
      ],
      "metadata": {
        "id": "dIvqHH7UoITU"
      }
    },
    {
      "cell_type": "code",
      "source": [
        "sns.boxplot(data=df, x='label', y='profit_per_order')\n",
        "plt.title('Profit per Order vs Delivery Outcome')\n",
        "plt.show()"
      ],
      "metadata": {
        "colab": {
          "base_uri": "https://localhost:8080/",
          "height": 472
        },
        "id": "59YZoAI-oMYe",
        "outputId": "ebe92a13-518a-4ba1-cd44-270e5e378dea"
      },
      "execution_count": 16,
      "outputs": [
        {
          "output_type": "display_data",
          "data": {
            "text/plain": [
              "<Figure size 640x480 with 1 Axes>"
            ],
            "image/png": "[encoded data removed]"
          },
          "metadata": {}
        }
      ]
    },
    {
      "cell_type": "markdown",
      "source": [
        "> **Sales per Customer vs Delivery Outcome**"
      ],
      "metadata": {
        "id": "y0kjhz6OoQ2E"
      }
    },
    {
      "cell_type": "code",
      "source": [
        "sns.boxplot(data=df, x='label', y='sales_per_customer')\n",
        "plt.title('Sales per Customer vs Delivery Outcome')\n",
        "plt.show()"
      ],
      "metadata": {
        "colab": {
          "base_uri": "https://localhost:8080/",
          "height": 472
        },
        "id": "gxbbYRZAoW2u",
        "outputId": "6f02661f-fd87-4f72-b683-722c89f642f3"
      },
      "execution_count": 17,
      "outputs": [
        {
          "output_type": "display_data",
          "data": {
            "text/plain": [
              "<Figure size 640x480 with 1 Axes>"
            ],
            "image/png": "[encoded data removed]"
          },
          "metadata": {}
        }
      ]
    },
    {
      "cell_type": "markdown",
      "source": [
        "## Summary of Finding\n",
        "- Dataset contains 15549 rows and 41 columns\n",
        "\n",
        "- Target class distribution: Late = 3545, On-Time = 3028, Early = 8976\n",
        "\n",
        "- There are no missing values in the dataset.\n",
        "\n",
        "- Shipping mode and geography show visible impact on delivery delays\n",
        "\n",
        "- Outliers observed in profit_per_order, shipping_duration"
      ],
      "metadata": {
        "id": "Bxxe8qG8onmA"
      }
    },
    {
      "cell_type": "code",
      "source": [
        "df['product_name'].value_counts()"
      ],
      "metadata": {
        "colab": {
          "base_uri": "https://localhost:8080/",
          "height": 489
        },
        "id": "i1yt9uXNrfG_",
        "outputId": "7e3a9602-b5f4-401b-9095-6e7975c0f0e8"
      },
      "execution_count": 18,
      "outputs": [
        {
          "output_type": "execute_result",
          "data": {
            "text/plain": [
              "product_name\n",
              "Perfect Fitness Perfect Rip Deck             2219\n",
              "Nike Men's CJ Elite 2 TD Football Cleat      1916\n",
              "Nike Men's Dri-FIT Victory Golf Polo         1886\n",
              "O'Brien Men's Neoprene Life Vest             1653\n",
              "Field & Stream Sportsman 16 Gun Fire Safe    1436\n",
              "                                             ... \n",
              "Garmin Forerunner 910XT GPS Watch               2\n",
              "Nike Men's Free TR 5.0 TB Training Shoe         1\n",
              "SOLE E35 Elliptical                             1\n",
              "Brooks Women's Ghost 6 Running Shoe             1\n",
              "Titleist Club Glove Travel Cover                1\n",
              "Name: count, Length: 113, dtype: int64"
            ],
            "text/html": [
              "<div>\n",
              "<style scoped>\n",
              "    .dataframe tbody tr th:only-of-type {\n",
              "        vertical-align: middle;\n",
              "    }\n",
              "\n",
              "    .dataframe tbody tr th {\n",
              "        vertical-align: top;\n",
              "    }\n",
              "\n",
              "    .dataframe thead th {\n",
              "        text-align: right;\n",
              "    }\n",
              "</style>\n",
              "<table border=\"1\" class=\"dataframe\">\n",
              "  <thead>\n",
              "    <tr style=\"text-align: right;\">\n",
              "      <th></th>\n",
              "      <th>count</th>\n",
              "    </tr>\n",
              "    <tr>\n",
              "      <th>product_name</th>\n",
              "      <th></th>\n",
              "    </tr>\n",
              "  </thead>\n",
              "  <tbody>\n",
              "    <tr>\n",
              "      <th>Perfect Fitness Perfect Rip Deck</th>\n",
              "      <td>2219</td>\n",
              "    </tr>\n",
              "    <tr>\n",
              "      <th>Nike Men's CJ Elite 2 TD Football Cleat</th>\n",
              "      <td>1916</td>\n",
              "    </tr>\n",
              "    <tr>\n",
              "      <th>Nike Men's Dri-FIT Victory Golf Polo</th>\n",
              "      <td>1886</td>\n",
              "    </tr>\n",
              "    <tr>\n",
              "      <th>O'Brien Men's Neoprene Life Vest</th>\n",
              "      <td>1653</td>\n",
              "    </tr>\n",
              "    <tr>\n",
              "      <th>Field &amp; Stream Sportsman 16 Gun Fire Safe</th>\n",
              "      <td>1436</td>\n",
              "    </tr>\n",
              "    <tr>\n",
              "      <th>...</th>\n",
              "      <td>...</td>\n",
              "    </tr>\n",
              "    <tr>\n",
              "      <th>Garmin Forerunner 910XT GPS Watch</th>\n",
              "      <td>2</td>\n",
              "    </tr>\n",
              "    <tr>\n",
              "      <th>Nike Men's Free TR 5.0 TB Training Shoe</th>\n",
              "      <td>1</td>\n",
              "    </tr>\n",
              "    <tr>\n",
              "      <th>SOLE E35 Elliptical</th>\n",
              "      <td>1</td>\n",
              "    </tr>\n",
              "    <tr>\n",
              "      <th>Brooks Women's Ghost 6 Running Shoe</th>\n",
              "      <td>1</td>\n",
              "    </tr>\n",
              "    <tr>\n",
              "      <th>Titleist Club Glove Travel Cover</th>\n",
              "      <td>1</td>\n",
              "    </tr>\n",
              "  </tbody>\n",
              "</table>\n",
              "<p>113 rows × 1 columns</p>\n",
              "</div><br><label><b>dtype:</b> int64</label>"
            ]
          },
          "metadata": {},
          "execution_count": 18
        }
      ]
    },
    {
      "cell_type": "code",
      "source": [
        "df.info()"
      ],
      "metadata": {
        "colab": {
          "base_uri": "https://localhost:8080/"
        },
        "id": "uOvAYKki3mjf",
        "outputId": "f06e5d3d-8e87-466d-9d51-7ed13a2ea57d"
      },
      "execution_count": 19,
      "outputs": [
        {
          "output_type": "stream",
          "name": "stdout",
          "text": [
            "<class 'pandas.core.frame.DataFrame'>\n",
            "RangeIndex: 15549 entries, 0 to 15548\n",
            "Data columns (total 41 columns):\n",
            " #   Column                    Non-Null Count  Dtype  \n",
            "---  ------                    --------------  -----  \n",
            " 0   payment_type              15549 non-null  object \n",
            " 1   profit_per_order          15549 non-null  float64\n",
            " 2   sales_per_customer        15549 non-null  float64\n",
            " 3   category_id               15549 non-null  float64\n",
            " 4   category_name             15549 non-null  object \n",
            " 5   customer_city             15549 non-null  object \n",
            " 6   customer_country          15549 non-null  object \n",
            " 7   customer_id               15549 non-null  float64\n",
            " 8   customer_segment          15549 non-null  object \n",
            " 9   customer_state            15549 non-null  object \n",
            " 10  customer_zipcode          15549 non-null  float64\n",
            " 11  department_id             15549 non-null  float64\n",
            " 12  department_name           15549 non-null  object \n",
            " 13  latitude                  15549 non-null  float64\n",
            " 14  longitude                 15549 non-null  float64\n",
            " 15  market                    15549 non-null  object \n",
            " 16  order_city                15549 non-null  object \n",
            " 17  order_country             15549 non-null  object \n",
            " 18  order_customer_id         15549 non-null  float64\n",
            " 19  order_date                15549 non-null  object \n",
            " 20  order_id                  15549 non-null  float64\n",
            " 21  order_item_cardprod_id    15549 non-null  float64\n",
            " 22  order_item_discount       15549 non-null  float64\n",
            " 23  order_item_discount_rate  15549 non-null  float64\n",
            " 24  order_item_id             15549 non-null  float64\n",
            " 25  order_item_product_price  15549 non-null  float64\n",
            " 26  order_item_profit_ratio   15549 non-null  float64\n",
            " 27  order_item_quantity       15549 non-null  float64\n",
            " 28  sales                     15549 non-null  float64\n",
            " 29  order_item_total_amount   15549 non-null  float64\n",
            " 30  order_profit_per_order    15549 non-null  float64\n",
            " 31  order_region              15549 non-null  object \n",
            " 32  order_state               15549 non-null  object \n",
            " 33  order_status              15549 non-null  object \n",
            " 34  product_card_id           15549 non-null  float64\n",
            " 35  product_category_id       15549 non-null  float64\n",
            " 36  product_name              15549 non-null  object \n",
            " 37  product_price             15549 non-null  float64\n",
            " 38  shipping_date             15549 non-null  object \n",
            " 39  shipping_mode             15549 non-null  object \n",
            " 40  label                     15549 non-null  int64  \n",
            "dtypes: float64(23), int64(1), object(17)\n",
            "memory usage: 4.9+ MB\n"
          ]
        }
      ]
    },
    {
      "cell_type": "markdown",
      "source": [
        "# **Phase 3: Data Preprocessing**\n",
        "\n",
        "In this phase, we prepare the dataset for modeling. This includes:\n",
        "\n",
        "- Checking for and handling missing values\n",
        "- Encoding categorical variables\n",
        "- Scaling numerical features\n",
        "- Dropping irrelevant or high-cardinality columns\n"
      ],
      "metadata": {
        "id": "CMFyjtYN2EVm"
      }
    },
    {
      "cell_type": "code",
      "source": [
        "id_cols = [\n",
        "    'customer_id',\n",
        "    'order_id',\n",
        "    'order_item_id',\n",
        "    'product_card_id',\n",
        "    'order_item_cardprod_id',\n",
        "    'order_customer_id',\n",
        "    'product_category_id',\n",
        "    'category_id',\n",
        "    'department_id'\n",
        "]\n",
        "\n",
        "df.drop(columns=id_cols, inplace=True, errors='ignore')\n"
      ],
      "metadata": {
        "id": "KVchPC960mrL"
      },
      "execution_count": 20,
      "outputs": []
    },
    {
      "cell_type": "code",
      "source": [
        "df.info()"
      ],
      "metadata": {
        "colab": {
          "base_uri": "https://localhost:8080/"
        },
        "id": "ng9_7QO-3q7J",
        "outputId": "9c979c8f-b9b9-4f32-9ccd-360be69a03d5"
      },
      "execution_count": 21,
      "outputs": [
        {
          "output_type": "stream",
          "name": "stdout",
          "text": [
            "<class 'pandas.core.frame.DataFrame'>\n",
            "RangeIndex: 15549 entries, 0 to 15548\n",
            "Data columns (total 32 columns):\n",
            " #   Column                    Non-Null Count  Dtype  \n",
            "---  ------                    --------------  -----  \n",
            " 0   payment_type              15549 non-null  object \n",
            " 1   profit_per_order          15549 non-null  float64\n",
            " 2   sales_per_customer        15549 non-null  float64\n",
            " 3   category_name             15549 non-null  object \n",
            " 4   customer_city             15549 non-null  object \n",
            " 5   customer_country          15549 non-null  object \n",
            " 6   customer_segment          15549 non-null  object \n",
            " 7   customer_state            15549 non-null  object \n",
            " 8   customer_zipcode          15549 non-null  float64\n",
            " 9   department_name           15549 non-null  object \n",
            " 10  latitude                  15549 non-null  float64\n",
            " 11  longitude                 15549 non-null  float64\n",
            " 12  market                    15549 non-null  object \n",
            " 13  order_city                15549 non-null  object \n",
            " 14  order_country             15549 non-null  object \n",
            " 15  order_date                15549 non-null  object \n",
            " 16  order_item_discount       15549 non-null  float64\n",
            " 17  order_item_discount_rate  15549 non-null  float64\n",
            " 18  order_item_product_price  15549 non-null  float64\n",
            " 19  order_item_profit_ratio   15549 non-null  float64\n",
            " 20  order_item_quantity       15549 non-null  float64\n",
            " 21  sales                     15549 non-null  float64\n",
            " 22  order_item_total_amount   15549 non-null  float64\n",
            " 23  order_profit_per_order    15549 non-null  float64\n",
            " 24  order_region              15549 non-null  object \n",
            " 25  order_state               15549 non-null  object \n",
            " 26  order_status              15549 non-null  object \n",
            " 27  product_name              15549 non-null  object \n",
            " 28  product_price             15549 non-null  float64\n",
            " 29  shipping_date             15549 non-null  object \n",
            " 30  shipping_mode             15549 non-null  object \n",
            " 31  label                     15549 non-null  int64  \n",
            "dtypes: float64(14), int64(1), object(17)\n",
            "memory usage: 3.8+ MB\n"
          ]
        }
      ]
    },
    {
      "cell_type": "markdown",
      "source": [
        "# **Drop High-Cardinality Columns**\n",
        "Notebook Documentation:\n",
        "> The columns customer_city, customer_state, order_city, order_state, and product_name contain a high number of unique values. Encoding them would:\n",
        "\n",
        "- Greatly increase dimensionality\n",
        "\n",
        "- Risk introducing noise and overfitting\n",
        "\n",
        "- Add complexity with little predictive benefit\n",
        "\n",
        "These columns are dropped to maintain a lean, interpretable dataset."
      ],
      "metadata": {
        "id": "wkkIXbAj2OAm"
      }
    },
    {
      "cell_type": "code",
      "source": [
        "high_card_cols = [\n",
        "    'customer_city',\n",
        "    'customer_state',\n",
        "    'order_city',\n",
        "    'order_state',\n",
        "    'product_name'\n",
        "]\n",
        "\n",
        "df.drop(columns=high_card_cols, inplace=True, errors='ignore')\n"
      ],
      "metadata": {
        "id": "Fir3TBpZ2Jbe"
      },
      "execution_count": 22,
      "outputs": []
    },
    {
      "cell_type": "code",
      "source": [
        "df.info()"
      ],
      "metadata": {
        "colab": {
          "base_uri": "https://localhost:8080/"
        },
        "id": "2Xkr9hLF3w5L",
        "outputId": "2c853fe3-27a4-4807-dd40-279e7abf0535"
      },
      "execution_count": 23,
      "outputs": [
        {
          "output_type": "stream",
          "name": "stdout",
          "text": [
            "<class 'pandas.core.frame.DataFrame'>\n",
            "RangeIndex: 15549 entries, 0 to 15548\n",
            "Data columns (total 27 columns):\n",
            " #   Column                    Non-Null Count  Dtype  \n",
            "---  ------                    --------------  -----  \n",
            " 0   payment_type              15549 non-null  object \n",
            " 1   profit_per_order          15549 non-null  float64\n",
            " 2   sales_per_customer        15549 non-null  float64\n",
            " 3   category_name             15549 non-null  object \n",
            " 4   customer_country          15549 non-null  object \n",
            " 5   customer_segment          15549 non-null  object \n",
            " 6   customer_zipcode          15549 non-null  float64\n",
            " 7   department_name           15549 non-null  object \n",
            " 8   latitude                  15549 non-null  float64\n",
            " 9   longitude                 15549 non-null  float64\n",
            " 10  market                    15549 non-null  object \n",
            " 11  order_country             15549 non-null  object \n",
            " 12  order_date                15549 non-null  object \n",
            " 13  order_item_discount       15549 non-null  float64\n",
            " 14  order_item_discount_rate  15549 non-null  float64\n",
            " 15  order_item_product_price  15549 non-null  float64\n",
            " 16  order_item_profit_ratio   15549 non-null  float64\n",
            " 17  order_item_quantity       15549 non-null  float64\n",
            " 18  sales                     15549 non-null  float64\n",
            " 19  order_item_total_amount   15549 non-null  float64\n",
            " 20  order_profit_per_order    15549 non-null  float64\n",
            " 21  order_region              15549 non-null  object \n",
            " 22  order_status              15549 non-null  object \n",
            " 23  product_price             15549 non-null  float64\n",
            " 24  shipping_date             15549 non-null  object \n",
            " 25  shipping_mode             15549 non-null  object \n",
            " 26  label                     15549 non-null  int64  \n",
            "dtypes: float64(14), int64(1), object(12)\n",
            "memory usage: 3.2+ MB\n"
          ]
        }
      ]
    },
    {
      "cell_type": "markdown",
      "source": [
        "# Encode Categorical Variables"
      ],
      "metadata": {
        "id": "rTHP1RfB20sZ"
      }
    },
    {
      "cell_type": "code",
      "source": [
        "categorical_cols = [\n",
        "    'payment_type',\n",
        "    'category_name',\n",
        "    'customer_country',\n",
        "    'customer_segment',\n",
        "    'market',\n",
        "    'order_country',\n",
        "    'order_region',\n",
        "    'shipping_mode',\n",
        "    'order_status'\n",
        "]\n",
        "\n",
        "# Apply get_dummies to categorical columns\n",
        "encoded_df = pd.get_dummies(df[categorical_cols], drop_first=True)\n",
        "\n",
        "# Drop original categorical columns from df\n",
        "df.drop(columns=categorical_cols, inplace=True)\n",
        "\n",
        "# Concatenate encoded columns back to df\n",
        "df = pd.concat([df, encoded_df], axis=1)\n",
        "df.info()\n"
      ],
      "metadata": {
        "colab": {
          "base_uri": "https://localhost:8080/"
        },
        "id": "O5aMrfnD2w7J",
        "outputId": "74a73d18-17e7-4048-9ea2-a49bb135ffd1"
      },
      "execution_count": 24,
      "outputs": [
        {
          "output_type": "stream",
          "name": "stdout",
          "text": [
            "<class 'pandas.core.frame.DataFrame'>\n",
            "RangeIndex: 15549 entries, 0 to 15548\n",
            "Columns: 258 entries, profit_per_order to order_status_PROCESSING\n",
            "dtypes: bool(240), float64(14), int64(1), object(3)\n",
            "memory usage: 5.7+ MB\n"
          ]
        }
      ]
    },
    {
      "cell_type": "markdown",
      "source": [
        "## Phase 4: Feature Engineering\n",
        "\n",
        "In this phase, we engineer and transform features to enhance model performance. Feature engineering helps extract hidden patterns, reduce noise, and make the dataset more predictive.\n",
        "\n",
        "Steps:\n",
        "- Create new features from existing columns\n",
        "- Handle invalid or unrealistic date-based values\n",
        "- Scale relevant numerical features\n",
        "- Perform correlation analysis (optional visual filtering)\n"
      ],
      "metadata": {
        "id": "qK0q-UiQZb_h"
      }
    },
    {
      "cell_type": "markdown",
      "source": [
        "# Create Shipping Duration Feature"
      ],
      "metadata": {
        "id": "kZ5MxGAC3Com"
      }
    },
    {
      "cell_type": "code",
      "source": [
        "df.info()"
      ],
      "metadata": {
        "colab": {
          "base_uri": "https://localhost:8080/"
        },
        "id": "Fu9GW_o63L4Q",
        "outputId": "e6fd3d3d-47f2-46c7-a574-e6d873bb00e4"
      },
      "execution_count": 25,
      "outputs": [
        {
          "output_type": "stream",
          "name": "stdout",
          "text": [
            "<class 'pandas.core.frame.DataFrame'>\n",
            "RangeIndex: 15549 entries, 0 to 15548\n",
            "Columns: 258 entries, profit_per_order to order_status_PROCESSING\n",
            "dtypes: bool(240), float64(14), int64(1), object(3)\n",
            "memory usage: 5.7+ MB\n"
          ]
        }
      ]
    },
    {
      "cell_type": "code",
      "source": [
        "df[['order_date', 'shipping_date']].dtypes\n"
      ],
      "metadata": {
        "colab": {
          "base_uri": "https://localhost:8080/",
          "height": 147
        },
        "id": "6F3U8UR_9rft",
        "outputId": "6f2aca17-9dd4-4ae2-9719-2c8a1308305b"
      },
      "execution_count": 26,
      "outputs": [
        {
          "output_type": "execute_result",
          "data": {
            "text/plain": [
              "order_date       object\n",
              "shipping_date    object\n",
              "dtype: object"
            ],
            "text/html": [
              "<div>\n",
              "<style scoped>\n",
              "    .dataframe tbody tr th:only-of-type {\n",
              "        vertical-align: middle;\n",
              "    }\n",
              "\n",
              "    .dataframe tbody tr th {\n",
              "        vertical-align: top;\n",
              "    }\n",
              "\n",
              "    .dataframe thead th {\n",
              "        text-align: right;\n",
              "    }\n",
              "</style>\n",
              "<table border=\"1\" class=\"dataframe\">\n",
              "  <thead>\n",
              "    <tr style=\"text-align: right;\">\n",
              "      <th></th>\n",
              "      <th>0</th>\n",
              "    </tr>\n",
              "  </thead>\n",
              "  <tbody>\n",
              "    <tr>\n",
              "      <th>order_date</th>\n",
              "      <td>object</td>\n",
              "    </tr>\n",
              "    <tr>\n",
              "      <th>shipping_date</th>\n",
              "      <td>object</td>\n",
              "    </tr>\n",
              "  </tbody>\n",
              "</table>\n",
              "</div><br><label><b>dtype:</b> object</label>"
            ]
          },
          "metadata": {},
          "execution_count": 26
        }
      ]
    },
    {
      "cell_type": "code",
      "source": [
        "df['order_date'] = pd.to_datetime(df['order_date'], errors='coerce')\n",
        "df['shipping_date'] = pd.to_datetime(df['shipping_date'], errors='coerce')"
      ],
      "metadata": {
        "id": "9crWV0vZ9wHf",
        "colab": {
          "base_uri": "https://localhost:8080/"
        },
        "outputId": "3bc18233-c4d8-4773-de17-93d0a7463ee2"
      },
      "execution_count": 27,
      "outputs": [
        {
          "output_type": "stream",
          "name": "stderr",
          "text": [
            "/tmp/ipython-input-27-2965210904.py:1: FutureWarning: In a future version of pandas, parsing datetimes with mixed time zones will raise an error unless `utc=True`. Please specify `utc=True` to opt in to the new behaviour and silence this warning. To create a `Series` with mixed offsets and `object` dtype, please use `apply` and `datetime.datetime.strptime`\n",
            "  df['order_date'] = pd.to_datetime(df['order_date'], errors='coerce')\n",
            "/tmp/ipython-input-27-2965210904.py:2: FutureWarning: In a future version of pandas, parsing datetimes with mixed time zones will raise an error unless `utc=True`. Please specify `utc=True` to opt in to the new behaviour and silence this warning. To create a `Series` with mixed offsets and `object` dtype, please use `apply` and `datetime.datetime.strptime`\n",
            "  df['shipping_date'] = pd.to_datetime(df['shipping_date'], errors='coerce')\n"
          ]
        }
      ]
    },
    {
      "cell_type": "code",
      "source": [
        "# Count missing or invalid dates\n",
        "df[['order_date', 'shipping_date']].isnull().sum()\n"
      ],
      "metadata": {
        "colab": {
          "base_uri": "https://localhost:8080/",
          "height": 147
        },
        "id": "-d_blbgm98lv",
        "outputId": "b2d7d247-cecc-401b-e874-b20ecdfc6af9"
      },
      "execution_count": 28,
      "outputs": [
        {
          "output_type": "execute_result",
          "data": {
            "text/plain": [
              "order_date       0\n",
              "shipping_date    0\n",
              "dtype: int64"
            ],
            "text/html": [
              "<div>\n",
              "<style scoped>\n",
              "    .dataframe tbody tr th:only-of-type {\n",
              "        vertical-align: middle;\n",
              "    }\n",
              "\n",
              "    .dataframe tbody tr th {\n",
              "        vertical-align: top;\n",
              "    }\n",
              "\n",
              "    .dataframe thead th {\n",
              "        text-align: right;\n",
              "    }\n",
              "</style>\n",
              "<table border=\"1\" class=\"dataframe\">\n",
              "  <thead>\n",
              "    <tr style=\"text-align: right;\">\n",
              "      <th></th>\n",
              "      <th>0</th>\n",
              "    </tr>\n",
              "  </thead>\n",
              "  <tbody>\n",
              "    <tr>\n",
              "      <th>order_date</th>\n",
              "      <td>0</td>\n",
              "    </tr>\n",
              "    <tr>\n",
              "      <th>shipping_date</th>\n",
              "      <td>0</td>\n",
              "    </tr>\n",
              "  </tbody>\n",
              "</table>\n",
              "</div><br><label><b>dtype:</b> int64</label>"
            ]
          },
          "metadata": {},
          "execution_count": 28
        }
      ]
    },
    {
      "cell_type": "markdown",
      "source": [
        "# Drop Rows with Invalid or Missing Dates\n",
        "Notebook Documentation:\n",
        "> Data Cleaning Decision:\n",
        "Rows containing invalid or missing order_date and shipping_date were excluded.\n",
        "\n",
        "- Accurate shipping duration is essential for predictive modeling of delivery delays\n",
        "\n",
        "- Imputing incorrect dates risks introducing bias\n",
        "\n",
        "- The dataset retains sufficient rows for reliable model training"
      ],
      "metadata": {
        "id": "TQGgL60H-_8m"
      }
    },
    {
      "cell_type": "code",
      "source": [
        "# Drop rows where order_date or shipping_date is missing\n",
        "df.dropna(subset=['order_date', 'shipping_date'], inplace=True)\n",
        "\n",
        "# Confirm new dataset size\n",
        "df.shape\n"
      ],
      "metadata": {
        "id": "pdt-RECO_M6t",
        "outputId": "48d625bd-7dd0-4d94-c779-ef5636f7287b",
        "colab": {
          "base_uri": "https://localhost:8080/"
        }
      },
      "execution_count": 29,
      "outputs": [
        {
          "output_type": "execute_result",
          "data": {
            "text/plain": [
              "(15549, 258)"
            ]
          },
          "metadata": {},
          "execution_count": 29
        }
      ]
    },
    {
      "cell_type": "code",
      "source": [
        "# # Calculate shipping duration in days\n",
        "# df['shipping_duration'] = (df['shipping_date'] - df['order_date']).dt.days\n",
        "\n",
        "# # Preview\n",
        "# df[['order_date', 'shipping_date', 'shipping_duration']].head()\n"
      ],
      "metadata": {
        "id": "lY1PnS8v_Sjz"
      },
      "execution_count": 30,
      "outputs": []
    },
    {
      "cell_type": "code",
      "source": [
        "# Convert columns to datetime\n",
        "df['order_date'] = pd.to_datetime(df['order_date'], errors='coerce')\n",
        "df['shipping_date'] = pd.to_datetime(df['shipping_date'], errors='coerce')\n",
        "\n",
        "# Drop invalid dates if needed\n",
        "df.dropna(subset=['order_date', 'shipping_date'], inplace=True)\n",
        "\n",
        "# Correctly calculate shipping duration\n",
        "df['shipping_duration'] = (df['shipping_date'] - df['order_date']).dt.days\n"
      ],
      "metadata": {
        "id": "ONPGxdaR27hi"
      },
      "execution_count": 31,
      "outputs": []
    },
    {
      "cell_type": "code",
      "source": [
        "# df[['order_date', 'shipping_date']].isnull().sum()\n"
      ],
      "metadata": {
        "id": "rOMbJrAZ6aB7"
      },
      "execution_count": 32,
      "outputs": []
    },
    {
      "cell_type": "code",
      "source": [
        "# df[df['order_date'].isnull()]\n",
        "# df[df['shipping_date'].isnull()]"
      ],
      "metadata": {
        "id": "MfoNRGCM6hKZ"
      },
      "execution_count": 33,
      "outputs": []
    },
    {
      "cell_type": "code",
      "source": [
        "# df['order_date'].dtype"
      ],
      "metadata": {
        "id": "Isbfs62t60qY"
      },
      "execution_count": 34,
      "outputs": []
    },
    {
      "cell_type": "code",
      "source": [
        "# df['shipping_duration'] = (df['shipping_date'] - df['order_date'])\n",
        "# df['shipping_duration'] = df['shipping_duration'].dt.days"
      ],
      "metadata": {
        "id": "rRrHZRaO3Fux"
      },
      "execution_count": 35,
      "outputs": []
    },
    {
      "cell_type": "code",
      "source": [
        "df[['shipping_duration', 'order_date', 'shipping_date']].head()"
      ],
      "metadata": {
        "colab": {
          "base_uri": "https://localhost:8080/",
          "height": 206
        },
        "id": "Ukdu4KBV5Sdj",
        "outputId": "61925c48-0c29-49b8-816e-a4bf89d42e1b"
      },
      "execution_count": 36,
      "outputs": [
        {
          "output_type": "execute_result",
          "data": {
            "text/plain": [
              "   shipping_duration                order_date             shipping_date\n",
              "0                  1 2015-08-12 00:00:00+01:00 2015-08-13 00:00:00+01:00\n",
              "5                130 2016-06-06 00:00:00+01:00 2016-10-14 00:00:00+01:00\n",
              "6                 47 2016-05-17 00:00:00+01:00 2016-07-03 00:00:00+01:00\n",
              "7                -46 2016-06-09 00:00:00+01:00 2016-04-24 00:00:00+01:00\n",
              "9               -123 2017-08-29 00:00:00+01:00 2017-04-28 00:00:00+01:00"
            ],
            "text/html": [
              "\n",
              "  <div id=\"df-4dac152a-ee0c-40eb-8a5c-40ee2203b170\" class=\"colab-df-container\">\n",
              "    <div>\n",
              "<style scoped>\n",
              "    .dataframe tbody tr th:only-of-type {\n",
              "        vertical-align: middle;\n",
              "    }\n",
              "\n",
              "    .dataframe tbody tr th {\n",
              "        vertical-align: top;\n",
              "    }\n",
              "\n",
              "    .dataframe thead th {\n",
              "        text-align: right;\n",
              "    }\n",
              "</style>\n",
              "<table border=\"1\" class=\"dataframe\">\n",
              "  <thead>\n",
              "    <tr style=\"text-align: right;\">\n",
              "      <th></th>\n",
              "      <th>shipping_duration</th>\n",
              "      <th>order_date</th>\n",
              "      <th>shipping_date</th>\n",
              "    </tr>\n",
              "  </thead>\n",
              "  <tbody>\n",
              "    <tr>\n",
              "      <th>0</th>\n",
              "      <td>1</td>\n",
              "      <td>2015-08-12 00:00:00+01:00</td>\n",
              "      <td>2015-08-13 00:00:00+01:00</td>\n",
              "    </tr>\n",
              "    <tr>\n",
              "      <th>5</th>\n",
              "      <td>130</td>\n",
              "      <td>2016-06-06 00:00:00+01:00</td>\n",
              "      <td>2016-10-14 00:00:00+01:00</td>\n",
              "    </tr>\n",
              "    <tr>\n",
              "      <th>6</th>\n",
              "      <td>47</td>\n",
              "      <td>2016-05-17 00:00:00+01:00</td>\n",
              "      <td>2016-07-03 00:00:00+01:00</td>\n",
              "    </tr>\n",
              "    <tr>\n",
              "      <th>7</th>\n",
              "      <td>-46</td>\n",
              "      <td>2016-06-09 00:00:00+01:00</td>\n",
              "      <td>2016-04-24 00:00:00+01:00</td>\n",
              "    </tr>\n",
              "    <tr>\n",
              "      <th>9</th>\n",
              "      <td>-123</td>\n",
              "      <td>2017-08-29 00:00:00+01:00</td>\n",
              "      <td>2017-04-28 00:00:00+01:00</td>\n",
              "    </tr>\n",
              "  </tbody>\n",
              "</table>\n",
              "</div>\n",
              "    <div class=\"colab-df-buttons\">\n",
              "\n",
              "  <div class=\"colab-df-container\">\n",
              "    <button class=\"colab-df-convert\" onclick=\"convertToInteractive('df-4dac152a-ee0c-40eb-8a5c-40ee2203b170')\"\n",
              "            title=\"Convert this dataframe to an interactive table.\"\n",
              "            style=\"display:none;\">\n",
              "\n",
              "  <svg xmlns=\"http://www.w3.org/2000/svg\" height=\"24px\" viewBox=\"0 -960 960 960\">\n",
              "    <path d=\"M120-120v-720h720v720H120Zm60-500h600v-160H180v160Zm220 220h160v-160H400v160Zm0 220h160v-160H400v160ZM180-400h160v-160H180v160Zm440 0h160v-160H620v160ZM180-180h160v-160H180v160Zm440 0h160v-160H620v160Z\"/>\n",
              "  </svg>\n",
              "    </button>\n",
              "\n",
              "  <style>\n",
              "    .colab-df-container {\n",
              "      display:flex;\n",
              "      gap: 12px;\n",
              "    }\n",
              "\n",
              "    .colab-df-convert {\n",
              "      background-color: #E8F0FE;\n",
              "      border: none;\n",
              "      border-radius: 50%;\n",
              "      cursor: pointer;\n",
              "      display: none;\n",
              "      fill: #1967D2;\n",
              "      height: 32px;\n",
              "      padding: 0 0 0 0;\n",
              "      width: 32px;\n",
              "    }\n",
              "\n",
              "    .colab-df-convert:hover {\n",
              "      background-color: #E2EBFA;\n",
              "      box-shadow: 0px 1px 2px rgba(60, 64, 67, 0.3), 0px 1px 3px 1px rgba(60, 64, 67, 0.15);\n",
              "      fill: #174EA6;\n",
              "    }\n",
              "\n",
              "    .colab-df-buttons div {\n",
              "      margin-bottom: 4px;\n",
              "    }\n",
              "\n",
              "    [theme=dark] .colab-df-convert {\n",
              "      background-color: #3B4455;\n",
              "      fill: #D2E3FC;\n",
              "    }\n",
              "\n",
              "    [theme=dark] .colab-df-convert:hover {\n",
              "      background-color: #434B5C;\n",
              "      box-shadow: 0px 1px 3px 1px rgba(0, 0, 0, 0.15);\n",
              "      filter: drop-shadow(0px 1px 2px rgba(0, 0, 0, 0.3));\n",
              "      fill: #FFFFFF;\n",
              "    }\n",
              "  </style>\n",
              "\n",
              "    <script>\n",
              "      const buttonEl =\n",
              "        document.querySelector('#df-4dac152a-ee0c-40eb-8a5c-40ee2203b170 button.colab-df-convert');\n",
              "      buttonEl.style.display =\n",
              "        google.colab.kernel.accessAllowed ? 'block' : 'none';\n",
              "\n",
              "      async function convertToInteractive(key) {\n",
              "        const element = document.querySelector('#df-4dac152a-ee0c-40eb-8a5c-40ee2203b170');\n",
              "        const dataTable =\n",
              "          await google.colab.kernel.invokeFunction('convertToInteractive',\n",
              "                                                    [key], {});\n",
              "        if (!dataTable) return;\n",
              "\n",
              "        const docLinkHtml = 'Like what you see? Visit the ' +\n",
              "          '<a target=\"_blank\" href=https://colab.research.google.com/notebooks/data_table.ipynb>data table notebook</a>'\n",
              "          + ' to learn more about interactive tables.';\n",
              "        element.innerHTML = '';\n",
              "        dataTable['output_type'] = 'display_data';\n",
              "        await google.colab.output.renderOutput(dataTable, element);\n",
              "        const docLink = document.createElement('div');\n",
              "        docLink.innerHTML = docLinkHtml;\n",
              "        element.appendChild(docLink);\n",
              "      }\n",
              "    </script>\n",
              "  </div>\n",
              "\n",
              "\n",
              "    <div id=\"df-2f146fb0-1578-4c4a-8b9e-87e34c99984c\">\n",
              "      <button class=\"colab-df-quickchart\" onclick=\"quickchart('df-2f146fb0-1578-4c4a-8b9e-87e34c99984c')\"\n",
              "                title=\"Suggest charts\"\n",
              "                style=\"display:none;\">\n",
              "\n",
              "<svg xmlns=\"http://www.w3.org/2000/svg\" height=\"24px\"viewBox=\"0 0 24 24\"\n",
              "     width=\"24px\">\n",
              "    <g>\n",
              "        <path d=\"M19 3H5c-1.1 0-2 .9-2 2v14c0 1.1.9 2 2 2h14c1.1 0 2-.9 2-2V5c0-1.1-.9-2-2-2zM9 17H7v-7h2v7zm4 0h-2V7h2v10zm4 0h-2v-4h2v4z\"/>\n",
              "    </g>\n",
              "</svg>\n",
              "      </button>\n",
              "\n",
              "<style>\n",
              "  .colab-df-quickchart {\n",
              "      --bg-color: #E8F0FE;\n",
              "      --fill-color: #1967D2;\n",
              "      --hover-bg-color: #E2EBFA;\n",
              "      --hover-fill-color: #174EA6;\n",
              "      --disabled-fill-color: #AAA;\n",
              "      --disabled-bg-color: #DDD;\n",
              "  }\n",
              "\n",
              "  [theme=dark] .colab-df-quickchart {\n",
              "      --bg-color: #3B4455;\n",
              "      --fill-color: #D2E3FC;\n",
              "      --hover-bg-color: #434B5C;\n",
              "      --hover-fill-color: #FFFFFF;\n",
              "      --disabled-bg-color: #3B4455;\n",
              "      --disabled-fill-color: #666;\n",
              "  }\n",
              "\n",
              "  .colab-df-quickchart {\n",
              "    background-color: var(--bg-color);\n",
              "    border: none;\n",
              "    border-radius: 50%;\n",
              "    cursor: pointer;\n",
              "    display: none;\n",
              "    fill: var(--fill-color);\n",
              "    height: 32px;\n",
              "    padding: 0;\n",
              "    width: 32px;\n",
              "  }\n",
              "\n",
              "  .colab-df-quickchart:hover {\n",
              "    background-color: var(--hover-bg-color);\n",
              "    box-shadow: 0 1px 2px rgba(60, 64, 67, 0.3), 0 1px 3px 1px rgba(60, 64, 67, 0.15);\n",
              "    fill: var(--button-hover-fill-color);\n",
              "  }\n",
              "\n",
              "  .colab-df-quickchart-complete:disabled,\n",
              "  .colab-df-quickchart-complete:disabled:hover {\n",
              "    background-color: var(--disabled-bg-color);\n",
              "    fill: var(--disabled-fill-color);\n",
              "    box-shadow: none;\n",
              "  }\n",
              "\n",
              "  .colab-df-spinner {\n",
              "    border: 2px solid var(--fill-color);\n",
              "    border-color: transparent;\n",
              "    border-bottom-color: var(--fill-color);\n",
              "    animation:\n",
              "      spin 1s steps(1) infinite;\n",
              "  }\n",
              "\n",
              "  @keyframes spin {\n",
              "    0% {\n",
              "      border-color: transparent;\n",
              "      border-bottom-color: var(--fill-color);\n",
              "      border-left-color: var(--fill-color);\n",
              "    }\n",
              "    20% {\n",
              "      border-color: transparent;\n",
              "      border-left-color: var(--fill-color);\n",
              "      border-top-color: var(--fill-color);\n",
              "    }\n",
              "    30% {\n",
              "      border-color: transparent;\n",
              "      border-left-color: var(--fill-color);\n",
              "      border-top-color: var(--fill-color);\n",
              "      border-right-color: var(--fill-color);\n",
              "    }\n",
              "    40% {\n",
              "      border-color: transparent;\n",
              "      border-right-color: var(--fill-color);\n",
              "      border-top-color: var(--fill-color);\n",
              "    }\n",
              "    60% {\n",
              "      border-color: transparent;\n",
              "      border-right-color: var(--fill-color);\n",
              "    }\n",
              "    80% {\n",
              "      border-color: transparent;\n",
              "      border-right-color: var(--fill-color);\n",
              "      border-bottom-color: var(--fill-color);\n",
              "    }\n",
              "    90% {\n",
              "      border-color: transparent;\n",
              "      border-bottom-color: var(--fill-color);\n",
              "    }\n",
              "  }\n",
              "</style>\n",
              "\n",
              "      <script>\n",
              "        async function quickchart(key) {\n",
              "          const quickchartButtonEl =\n",
              "            document.querySelector('#' + key + ' button');\n",
              "          quickchartButtonEl.disabled = true;  // To prevent multiple clicks.\n",
              "          quickchartButtonEl.classList.add('colab-df-spinner');\n",
              "          try {\n",
              "            const charts = await google.colab.kernel.invokeFunction(\n",
              "                'suggestCharts', [key], {});\n",
              "          } catch (error) {\n",
              "            console.error('Error during call to suggestCharts:', error);\n",
              "          }\n",
              "          quickchartButtonEl.classList.remove('colab-df-spinner');\n",
              "          quickchartButtonEl.classList.add('colab-df-quickchart-complete');\n",
              "        }\n",
              "        (() => {\n",
              "          let quickchartButtonEl =\n",
              "            document.querySelector('#df-2f146fb0-1578-4c4a-8b9e-87e34c99984c button');\n",
              "          quickchartButtonEl.style.display =\n",
              "            google.colab.kernel.accessAllowed ? 'block' : 'none';\n",
              "        })();\n",
              "      </script>\n",
              "    </div>\n",
              "\n",
              "    </div>\n",
              "  </div>\n"
            ],
            "application/vnd.google.colaboratory.intrinsic+json": {
              "type": "dataframe",
              "summary": "{\n  \"name\": \"df[['shipping_duration', 'order_date', 'shipping_date']]\",\n  \"rows\": 5,\n  \"fields\": [\n    {\n      \"column\": \"shipping_duration\",\n      \"properties\": {\n        \"dtype\": \"number\",\n        \"std\": 95,\n        \"min\": -123,\n        \"max\": 130,\n        \"num_unique_values\": 5,\n        \"samples\": [\n          130,\n          -123,\n          47\n        ],\n        \"semantic_type\": \"\",\n        \"description\": \"\"\n      }\n    },\n    {\n      \"column\": \"order_date\",\n      \"properties\": {\n        \"dtype\": \"date\",\n        \"min\": \"2015-08-12 00:00:00+01:00\",\n        \"max\": \"2017-08-29 00:00:00+01:00\",\n        \"num_unique_values\": 5,\n        \"samples\": [\n          \"2016-06-06 00:00:00+01:00\",\n          \"2017-08-29 00:00:00+01:00\",\n          \"2016-05-17 00:00:00+01:00\"\n        ],\n        \"semantic_type\": \"\",\n        \"description\": \"\"\n      }\n    },\n    {\n      \"column\": \"shipping_date\",\n      \"properties\": {\n        \"dtype\": \"date\",\n        \"min\": \"2015-08-13 00:00:00+01:00\",\n        \"max\": \"2017-04-28 00:00:00+01:00\",\n        \"num_unique_values\": 5,\n        \"samples\": [\n          \"2016-10-14 00:00:00+01:00\",\n          \"2017-04-28 00:00:00+01:00\",\n          \"2016-07-03 00:00:00+01:00\"\n        ],\n        \"semantic_type\": \"\",\n        \"description\": \"\"\n      }\n    }\n  ]\n}"
            }
          },
          "metadata": {},
          "execution_count": 36
        }
      ]
    },
    {
      "cell_type": "code",
      "source": [
        "# Remove impossible durations\n",
        "df = df[df['shipping_duration'] >= 0]\n"
      ],
      "metadata": {
        "id": "UTFqzFS28t-_"
      },
      "execution_count": 37,
      "outputs": []
    },
    {
      "cell_type": "code",
      "source": [
        "upper_limit = df['shipping_duration'].quantile(0.99)\n",
        "df['shipping_duration'] = df['shipping_duration'].apply(lambda x: upper_limit if x > upper_limit else x)\n"
      ],
      "metadata": {
        "colab": {
          "base_uri": "https://localhost:8080/"
        },
        "id": "ELrIK0OZtqFv",
        "outputId": "44492538-e2e0-4092-a093-dd6184cdcb81"
      },
      "execution_count": 38,
      "outputs": [
        {
          "output_type": "stream",
          "name": "stderr",
          "text": [
            "/tmp/ipython-input-38-3319196423.py:2: SettingWithCopyWarning: \n",
            "A value is trying to be set on a copy of a slice from a DataFrame.\n",
            "Try using .loc[row_indexer,col_indexer] = value instead\n",
            "\n",
            "See the caveats in the documentation: https://pandas.pydata.org/pandas-docs/stable/user_guide/indexing.html#returning-a-view-versus-a-copy\n",
            "  df['shipping_duration'] = df['shipping_duration'].apply(lambda x: upper_limit if x > upper_limit else x)\n"
          ]
        }
      ]
    },
    {
      "cell_type": "markdown",
      "source": [],
      "metadata": {
        "id": "DnQpNW4luEge"
      }
    },
    {
      "cell_type": "code",
      "source": [
        "# Standardizing Numerical Features\n",
        "from sklearn.preprocessing import StandardScaler\n",
        "\n",
        "scaler = StandardScaler()\n",
        "df[['profit_per_order_scaled', 'sales_per_customer_scaled']] = scaler.fit_transform(\n",
        "    df[['profit_per_order', 'sales_per_customer']]\n",
        ")\n"
      ],
      "metadata": {
        "id": "uOZKaQtWt2Az"
      },
      "execution_count": 39,
      "outputs": []
    },
    {
      "cell_type": "code",
      "source": [
        "df['order_month'] = df['order_date'].dt.month\n",
        "df['order_weekday'] = df['order_date'].dt.dayofweek  # 0 = Monday, 6 = Sunday\n"
      ],
      "metadata": {
        "id": "TnB93QHVuDpK"
      },
      "execution_count": 40,
      "outputs": []
    },
    {
      "cell_type": "code",
      "source": [
        "df[['order_month', 'order_weekday']].head()"
      ],
      "metadata": {
        "colab": {
          "base_uri": "https://localhost:8080/",
          "height": 206
        },
        "id": "m-fat1NeurBU",
        "outputId": "36be23a5-2ccf-4e4a-aa26-7a62817b30a6"
      },
      "execution_count": 41,
      "outputs": [
        {
          "output_type": "execute_result",
          "data": {
            "text/plain": [
              "    order_month  order_weekday\n",
              "0             8              2\n",
              "5             6              0\n",
              "6             5              1\n",
              "11            4              0\n",
              "14            8              4"
            ],
            "text/html": [
              "\n",
              "  <div id=\"df-d93e99e7-ff6e-40eb-9f28-e7faf2e3188a\" class=\"colab-df-container\">\n",
              "    <div>\n",
              "<style scoped>\n",
              "    .dataframe tbody tr th:only-of-type {\n",
              "        vertical-align: middle;\n",
              "    }\n",
              "\n",
              "    .dataframe tbody tr th {\n",
              "        vertical-align: top;\n",
              "    }\n",
              "\n",
              "    .dataframe thead th {\n",
              "        text-align: right;\n",
              "    }\n",
              "</style>\n",
              "<table border=\"1\" class=\"dataframe\">\n",
              "  <thead>\n",
              "    <tr style=\"text-align: right;\">\n",
              "      <th></th>\n",
              "      <th>order_month</th>\n",
              "      <th>order_weekday</th>\n",
              "    </tr>\n",
              "  </thead>\n",
              "  <tbody>\n",
              "    <tr>\n",
              "      <th>0</th>\n",
              "      <td>8</td>\n",
              "      <td>2</td>\n",
              "    </tr>\n",
              "    <tr>\n",
              "      <th>5</th>\n",
              "      <td>6</td>\n",
              "      <td>0</td>\n",
              "    </tr>\n",
              "    <tr>\n",
              "      <th>6</th>\n",
              "      <td>5</td>\n",
              "      <td>1</td>\n",
              "    </tr>\n",
              "    <tr>\n",
              "      <th>11</th>\n",
              "      <td>4</td>\n",
              "      <td>0</td>\n",
              "    </tr>\n",
              "    <tr>\n",
              "      <th>14</th>\n",
              "      <td>8</td>\n",
              "      <td>4</td>\n",
              "    </tr>\n",
              "  </tbody>\n",
              "</table>\n",
              "</div>\n",
              "    <div class=\"colab-df-buttons\">\n",
              "\n",
              "  <div class=\"colab-df-container\">\n",
              "    <button class=\"colab-df-convert\" onclick=\"convertToInteractive('df-d93e99e7-ff6e-40eb-9f28-e7faf2e3188a')\"\n",
              "            title=\"Convert this dataframe to an interactive table.\"\n",
              "            style=\"display:none;\">\n",
              "\n",
              "  <svg xmlns=\"http://www.w3.org/2000/svg\" height=\"24px\" viewBox=\"0 -960 960 960\">\n",
              "    <path d=\"M120-120v-720h720v720H120Zm60-500h600v-160H180v160Zm220 220h160v-160H400v160Zm0 220h160v-160H400v160ZM180-400h160v-160H180v160Zm440 0h160v-160H620v160ZM180-180h160v-160H180v160Zm440 0h160v-160H620v160Z\"/>\n",
              "  </svg>\n",
              "    </button>\n",
              "\n",
              "  <style>\n",
              "    .colab-df-container {\n",
              "      display:flex;\n",
              "      gap: 12px;\n",
              "    }\n",
              "\n",
              "    .colab-df-convert {\n",
              "      background-color: #E8F0FE;\n",
              "      border: none;\n",
              "      border-radius: 50%;\n",
              "      cursor: pointer;\n",
              "      display: none;\n",
              "      fill: #1967D2;\n",
              "      height: 32px;\n",
              "      padding: 0 0 0 0;\n",
              "      width: 32px;\n",
              "    }\n",
              "\n",
              "    .colab-df-convert:hover {\n",
              "      background-color: #E2EBFA;\n",
              "      box-shadow: 0px 1px 2px rgba(60, 64, 67, 0.3), 0px 1px 3px 1px rgba(60, 64, 67, 0.15);\n",
              "      fill: #174EA6;\n",
              "    }\n",
              "\n",
              "    .colab-df-buttons div {\n",
              "      margin-bottom: 4px;\n",
              "    }\n",
              "\n",
              "    [theme=dark] .colab-df-convert {\n",
              "      background-color: #3B4455;\n",
              "      fill: #D2E3FC;\n",
              "    }\n",
              "\n",
              "    [theme=dark] .colab-df-convert:hover {\n",
              "      background-color: #434B5C;\n",
              "      box-shadow: 0px 1px 3px 1px rgba(0, 0, 0, 0.15);\n",
              "      filter: drop-shadow(0px 1px 2px rgba(0, 0, 0, 0.3));\n",
              "      fill: #FFFFFF;\n",
              "    }\n",
              "  </style>\n",
              "\n",
              "    <script>\n",
              "      const buttonEl =\n",
              "        document.querySelector('#df-d93e99e7-ff6e-40eb-9f28-e7faf2e3188a button.colab-df-convert');\n",
              "      buttonEl.style.display =\n",
              "        google.colab.kernel.accessAllowed ? 'block' : 'none';\n",
              "\n",
              "      async function convertToInteractive(key) {\n",
              "        const element = document.querySelector('#df-d93e99e7-ff6e-40eb-9f28-e7faf2e3188a');\n",
              "        const dataTable =\n",
              "          await google.colab.kernel.invokeFunction('convertToInteractive',\n",
              "                                                    [key], {});\n",
              "        if (!dataTable) return;\n",
              "\n",
              "        const docLinkHtml = 'Like what you see? Visit the ' +\n",
              "          '<a target=\"_blank\" href=https://colab.research.google.com/notebooks/data_table.ipynb>data table notebook</a>'\n",
              "          + ' to learn more about interactive tables.';\n",
              "        element.innerHTML = '';\n",
              "        dataTable['output_type'] = 'display_data';\n",
              "        await google.colab.output.renderOutput(dataTable, element);\n",
              "        const docLink = document.createElement('div');\n",
              "        docLink.innerHTML = docLinkHtml;\n",
              "        element.appendChild(docLink);\n",
              "      }\n",
              "    </script>\n",
              "  </div>\n",
              "\n",
              "\n",
              "    <div id=\"df-b737b9c3-e7d6-4329-b8d8-36afb807fa3e\">\n",
              "      <button class=\"colab-df-quickchart\" onclick=\"quickchart('df-b737b9c3-e7d6-4329-b8d8-36afb807fa3e')\"\n",
              "                title=\"Suggest charts\"\n",
              "                style=\"display:none;\">\n",
              "\n",
              "<svg xmlns=\"http://www.w3.org/2000/svg\" height=\"24px\"viewBox=\"0 0 24 24\"\n",
              "     width=\"24px\">\n",
              "    <g>\n",
              "        <path d=\"M19 3H5c-1.1 0-2 .9-2 2v14c0 1.1.9 2 2 2h14c1.1 0 2-.9 2-2V5c0-1.1-.9-2-2-2zM9 17H7v-7h2v7zm4 0h-2V7h2v10zm4 0h-2v-4h2v4z\"/>\n",
              "    </g>\n",
              "</svg>\n",
              "      </button>\n",
              "\n",
              "<style>\n",
              "  .colab-df-quickchart {\n",
              "      --bg-color: #E8F0FE;\n",
              "      --fill-color: #1967D2;\n",
              "      --hover-bg-color: #E2EBFA;\n",
              "      --hover-fill-color: #174EA6;\n",
              "      --disabled-fill-color: #AAA;\n",
              "      --disabled-bg-color: #DDD;\n",
              "  }\n",
              "\n",
              "  [theme=dark] .colab-df-quickchart {\n",
              "      --bg-color: #3B4455;\n",
              "      --fill-color: #D2E3FC;\n",
              "      --hover-bg-color: #434B5C;\n",
              "      --hover-fill-color: #FFFFFF;\n",
              "      --disabled-bg-color: #3B4455;\n",
              "      --disabled-fill-color: #666;\n",
              "  }\n",
              "\n",
              "  .colab-df-quickchart {\n",
              "    background-color: var(--bg-color);\n",
              "    border: none;\n",
              "    border-radius: 50%;\n",
              "    cursor: pointer;\n",
              "    display: none;\n",
              "    fill: var(--fill-color);\n",
              "    height: 32px;\n",
              "    padding: 0;\n",
              "    width: 32px;\n",
              "  }\n",
              "\n",
              "  .colab-df-quickchart:hover {\n",
              "    background-color: var(--hover-bg-color);\n",
              "    box-shadow: 0 1px 2px rgba(60, 64, 67, 0.3), 0 1px 3px 1px rgba(60, 64, 67, 0.15);\n",
              "    fill: var(--button-hover-fill-color);\n",
              "  }\n",
              "\n",
              "  .colab-df-quickchart-complete:disabled,\n",
              "  .colab-df-quickchart-complete:disabled:hover {\n",
              "    background-color: var(--disabled-bg-color);\n",
              "    fill: var(--disabled-fill-color);\n",
              "    box-shadow: none;\n",
              "  }\n",
              "\n",
              "  .colab-df-spinner {\n",
              "    border: 2px solid var(--fill-color);\n",
              "    border-color: transparent;\n",
              "    border-bottom-color: var(--fill-color);\n",
              "    animation:\n",
              "      spin 1s steps(1) infinite;\n",
              "  }\n",
              "\n",
              "  @keyframes spin {\n",
              "    0% {\n",
              "      border-color: transparent;\n",
              "      border-bottom-color: var(--fill-color);\n",
              "      border-left-color: var(--fill-color);\n",
              "    }\n",
              "    20% {\n",
              "      border-color: transparent;\n",
              "      border-left-color: var(--fill-color);\n",
              "      border-top-color: var(--fill-color);\n",
              "    }\n",
              "    30% {\n",
              "      border-color: transparent;\n",
              "      border-left-color: var(--fill-color);\n",
              "      border-top-color: var(--fill-color);\n",
              "      border-right-color: var(--fill-color);\n",
              "    }\n",
              "    40% {\n",
              "      border-color: transparent;\n",
              "      border-right-color: var(--fill-color);\n",
              "      border-top-color: var(--fill-color);\n",
              "    }\n",
              "    60% {\n",
              "      border-color: transparent;\n",
              "      border-right-color: var(--fill-color);\n",
              "    }\n",
              "    80% {\n",
              "      border-color: transparent;\n",
              "      border-right-color: var(--fill-color);\n",
              "      border-bottom-color: var(--fill-color);\n",
              "    }\n",
              "    90% {\n",
              "      border-color: transparent;\n",
              "      border-bottom-color: var(--fill-color);\n",
              "    }\n",
              "  }\n",
              "</style>\n",
              "\n",
              "      <script>\n",
              "        async function quickchart(key) {\n",
              "          const quickchartButtonEl =\n",
              "            document.querySelector('#' + key + ' button');\n",
              "          quickchartButtonEl.disabled = true;  // To prevent multiple clicks.\n",
              "          quickchartButtonEl.classList.add('colab-df-spinner');\n",
              "          try {\n",
              "            const charts = await google.colab.kernel.invokeFunction(\n",
              "                'suggestCharts', [key], {});\n",
              "          } catch (error) {\n",
              "            console.error('Error during call to suggestCharts:', error);\n",
              "          }\n",
              "          quickchartButtonEl.classList.remove('colab-df-spinner');\n",
              "          quickchartButtonEl.classList.add('colab-df-quickchart-complete');\n",
              "        }\n",
              "        (() => {\n",
              "          let quickchartButtonEl =\n",
              "            document.querySelector('#df-b737b9c3-e7d6-4329-b8d8-36afb807fa3e button');\n",
              "          quickchartButtonEl.style.display =\n",
              "            google.colab.kernel.accessAllowed ? 'block' : 'none';\n",
              "        })();\n",
              "      </script>\n",
              "    </div>\n",
              "\n",
              "    </div>\n",
              "  </div>\n"
            ],
            "application/vnd.google.colaboratory.intrinsic+json": {
              "type": "dataframe",
              "summary": "{\n  \"name\": \"df[['order_month', 'order_weekday']]\",\n  \"rows\": 5,\n  \"fields\": [\n    {\n      \"column\": \"order_month\",\n      \"properties\": {\n        \"dtype\": \"int32\",\n        \"num_unique_values\": 4,\n        \"samples\": [\n          6,\n          4,\n          8\n        ],\n        \"semantic_type\": \"\",\n        \"description\": \"\"\n      }\n    },\n    {\n      \"column\": \"order_weekday\",\n      \"properties\": {\n        \"dtype\": \"int32\",\n        \"num_unique_values\": 4,\n        \"samples\": [\n          0,\n          4,\n          2\n        ],\n        \"semantic_type\": \"\",\n        \"description\": \"\"\n      }\n    }\n  ]\n}"
            }
          },
          "metadata": {},
          "execution_count": 41
        }
      ]
    },
    {
      "cell_type": "code",
      "source": [
        "df['profit_margin_ratio'] = df['profit_per_order'] / df['sales_per_customer']\n"
      ],
      "metadata": {
        "id": "dQY4CGM3uw9j"
      },
      "execution_count": 42,
      "outputs": []
    },
    {
      "cell_type": "code",
      "source": [
        "df.drop(columns=['order_date', 'shipping_date'], inplace=True)\n"
      ],
      "metadata": {
        "id": "295veaglu01w"
      },
      "execution_count": 43,
      "outputs": []
    },
    {
      "cell_type": "code",
      "source": [
        "corr = df.corr(numeric_only=True)['label'].drop('label').sort_values(ascending=False)\n",
        "\n",
        "plt.figure(figsize=(10, 6))\n",
        "sns.barplot(y=corr.index[:20], x=corr.values[:20], palette='viridis')\n",
        "plt.title('Top 20 Feature Correlations with Delivery Delay (label)')\n",
        "plt.xlabel('Correlation with Target')\n",
        "plt.show()\n"
      ],
      "metadata": {
        "colab": {
          "base_uri": "https://localhost:8080/",
          "height": 661
        },
        "id": "Fn3EmU_8u5Lx",
        "outputId": "2fb2e4ce-53a4-4519-b45f-a6eade5e3cb2"
      },
      "execution_count": 44,
      "outputs": [
        {
          "output_type": "stream",
          "name": "stderr",
          "text": [
            "/tmp/ipython-input-44-3558281101.py:4: FutureWarning: \n",
            "\n",
            "Passing `palette` without assigning `hue` is deprecated and will be removed in v0.14.0. Assign the `y` variable to `hue` and set `legend=False` for the same effect.\n",
            "\n",
            "  sns.barplot(y=corr.index[:20], x=corr.values[:20], palette='viridis')\n"
          ]
        },
        {
          "output_type": "display_data",
          "data": {
            "text/plain": [
              "<Figure size 1000x600 with 1 Axes>"
            ],
            "image/png": "[encoded data removed]"
          },
          "metadata": {}
        }
      ]
    },
    {
      "cell_type": "code",
      "source": [
        "df.info()\n",
        "df.head()\n"
      ],
      "metadata": {
        "colab": {
          "base_uri": "https://localhost:8080/",
          "height": 347
        },
        "id": "vUVMY3wVvXeR",
        "outputId": "7864ff61-9479-4d24-e544-e0a05fea8896"
      },
      "execution_count": 45,
      "outputs": [
        {
          "output_type": "stream",
          "name": "stdout",
          "text": [
            "<class 'pandas.core.frame.DataFrame'>\n",
            "Index: 4897 entries, 0 to 15548\n",
            "Columns: 262 entries, profit_per_order to profit_margin_ratio\n",
            "dtypes: bool(240), float64(18), int32(2), int64(1), object(1)\n",
            "memory usage: 1.9+ MB\n"
          ]
        },
        {
          "output_type": "execute_result",
          "data": {
            "text/plain": [
              "    profit_per_order  sales_per_customer  customer_zipcode department_name  \\\n",
              "0          34.448338            92.49099             725.0        Footwear   \n",
              "5          76.100400           137.45360             725.0        Footwear   \n",
              "6         -54.345290           167.98117             725.0        Fan Shop   \n",
              "11        147.010090           326.84012             725.0        Fan Shop   \n",
              "14         34.895645           126.72665           85222.0            Golf   \n",
              "\n",
              "     latitude   longitude  order_item_discount  order_item_discount_rate  \\\n",
              "0   18.359064  -66.370575            12.623338                      0.13   \n",
              "5   18.268790  -66.370500             0.000000                      0.00   \n",
              "6   18.244066  -66.370580            35.990000                      0.20   \n",
              "11  40.602510  -74.024290           100.000000                      0.25   \n",
              "14  30.391850 -111.958820            20.000000                      0.13   \n",
              "\n",
              "    order_item_product_price  order_item_profit_ratio  ...  \\\n",
              "0                      99.99                 0.410000  ...   \n",
              "5                      39.99                 0.490000  ...   \n",
              "6                      49.98                -0.569843  ...   \n",
              "11                    399.98                 0.480000  ...   \n",
              "14                     50.00                 0.260000  ...   \n",
              "\n",
              "    order_status_PAYMENT_REVIEW  order_status_PENDING  \\\n",
              "0                         False                 False   \n",
              "5                         False                 False   \n",
              "6                         False                 False   \n",
              "11                        False                 False   \n",
              "14                        False                 False   \n",
              "\n",
              "    order_status_PENDING_PAYMENT  order_status_PROCESSING  shipping_duration  \\\n",
              "0                          False                    False                1.0   \n",
              "5                          False                    False              130.0   \n",
              "6                          False                    False               47.0   \n",
              "11                          True                    False               19.0   \n",
              "14                         False                    False               39.0   \n",
              "\n",
              "    profit_per_order_scaled  sales_per_customer_scaled  order_month  \\\n",
              "0                  0.132253                  -0.813218            8   \n",
              "5                  0.565322                  -0.389587            6   \n",
              "6                 -0.790961                  -0.101960            5   \n",
              "11                 1.302591                   1.394788            4   \n",
              "14                 0.136904                  -0.490654            8   \n",
              "\n",
              "    order_weekday  profit_margin_ratio  \n",
              "0               2             0.372451  \n",
              "5               0             0.553644  \n",
              "6               1            -0.323520  \n",
              "11              0             0.449792  \n",
              "14              4             0.275362  \n",
              "\n",
              "[5 rows x 262 columns]"
            ],
            "text/html": [
              "\n",
              "  <div id=\"df-ef9d79de-8f14-4ece-b7d7-c96e82679f29\" class=\"colab-df-container\">\n",
              "    <div>\n",
              "<style scoped>\n",
              "    .dataframe tbody tr th:only-of-type {\n",
              "        vertical-align: middle;\n",
              "    }\n",
              "\n",
              "    .dataframe tbody tr th {\n",
              "        vertical-align: top;\n",
              "    }\n",
              "\n",
              "    .dataframe thead th {\n",
              "        text-align: right;\n",
              "    }\n",
              "</style>\n",
              "<table border=\"1\" class=\"dataframe\">\n",
              "  <thead>\n",
              "    <tr style=\"text-align: right;\">\n",
              "      <th></th>\n",
              "      <th>profit_per_order</th>\n",
              "      <th>sales_per_customer</th>\n",
              "      <th>customer_zipcode</th>\n",
              "      <th>department_name</th>\n",
              "      <th>latitude</th>\n",
              "      <th>longitude</th>\n",
              "      <th>order_item_discount</th>\n",
              "      <th>order_item_discount_rate</th>\n",
              "      <th>order_item_product_price</th>\n",
              "      <th>order_item_profit_ratio</th>\n",
              "      <th>...</th>\n",
              "      <th>order_status_PAYMENT_REVIEW</th>\n",
              "      <th>order_status_PENDING</th>\n",
              "      <th>order_status_PENDING_PAYMENT</th>\n",
              "      <th>order_status_PROCESSING</th>\n",
              "      <th>shipping_duration</th>\n",
              "      <th>profit_per_order_scaled</th>\n",
              "      <th>sales_per_customer_scaled</th>\n",
              "      <th>order_month</th>\n",
              "      <th>order_weekday</th>\n",
              "      <th>profit_margin_ratio</th>\n",
              "    </tr>\n",
              "  </thead>\n",
              "  <tbody>\n",
              "    <tr>\n",
              "      <th>0</th>\n",
              "      <td>34.448338</td>\n",
              "      <td>92.49099</td>\n",
              "      <td>725.0</td>\n",
              "      <td>Footwear</td>\n",
              "      <td>18.359064</td>\n",
              "      <td>-66.370575</td>\n",
              "      <td>12.623338</td>\n",
              "      <td>0.13</td>\n",
              "      <td>99.99</td>\n",
              "      <td>0.410000</td>\n",
              "      <td>...</td>\n",
              "      <td>False</td>\n",
              "      <td>False</td>\n",
              "      <td>False</td>\n",
              "      <td>False</td>\n",
              "      <td>1.0</td>\n",
              "      <td>0.132253</td>\n",
              "      <td>-0.813218</td>\n",
              "      <td>8</td>\n",
              "      <td>2</td>\n",
              "      <td>0.372451</td>\n",
              "    </tr>\n",
              "    <tr>\n",
              "      <th>5</th>\n",
              "      <td>76.100400</td>\n",
              "      <td>137.45360</td>\n",
              "      <td>725.0</td>\n",
              "      <td>Footwear</td>\n",
              "      <td>18.268790</td>\n",
              "      <td>-66.370500</td>\n",
              "      <td>0.000000</td>\n",
              "      <td>0.00</td>\n",
              "      <td>39.99</td>\n",
              "      <td>0.490000</td>\n",
              "      <td>...</td>\n",
              "      <td>False</td>\n",
              "      <td>False</td>\n",
              "      <td>False</td>\n",
              "      <td>False</td>\n",
              "      <td>130.0</td>\n",
              "      <td>0.565322</td>\n",
              "      <td>-0.389587</td>\n",
              "      <td>6</td>\n",
              "      <td>0</td>\n",
              "      <td>0.553644</td>\n",
              "    </tr>\n",
              "    <tr>\n",
              "      <th>6</th>\n",
              "      <td>-54.345290</td>\n",
              "      <td>167.98117</td>\n",
              "      <td>725.0</td>\n",
              "      <td>Fan Shop</td>\n",
              "      <td>18.244066</td>\n",
              "      <td>-66.370580</td>\n",
              "      <td>35.990000</td>\n",
              "      <td>0.20</td>\n",
              "      <td>49.98</td>\n",
              "      <td>-0.569843</td>\n",
              "      <td>...</td>\n",
              "      <td>False</td>\n",
              "      <td>False</td>\n",
              "      <td>False</td>\n",
              "      <td>False</td>\n",
              "      <td>47.0</td>\n",
              "      <td>-0.790961</td>\n",
              "      <td>-0.101960</td>\n",
              "      <td>5</td>\n",
              "      <td>1</td>\n",
              "      <td>-0.323520</td>\n",
              "    </tr>\n",
              "    <tr>\n",
              "      <th>11</th>\n",
              "      <td>147.010090</td>\n",
              "      <td>326.84012</td>\n",
              "      <td>725.0</td>\n",
              "      <td>Fan Shop</td>\n",
              "      <td>40.602510</td>\n",
              "      <td>-74.024290</td>\n",
              "      <td>100.000000</td>\n",
              "      <td>0.25</td>\n",
              "      <td>399.98</td>\n",
              "      <td>0.480000</td>\n",
              "      <td>...</td>\n",
              "      <td>False</td>\n",
              "      <td>False</td>\n",
              "      <td>True</td>\n",
              "      <td>False</td>\n",
              "      <td>19.0</td>\n",
              "      <td>1.302591</td>\n",
              "      <td>1.394788</td>\n",
              "      <td>4</td>\n",
              "      <td>0</td>\n",
              "      <td>0.449792</td>\n",
              "    </tr>\n",
              "    <tr>\n",
              "      <th>14</th>\n",
              "      <td>34.895645</td>\n",
              "      <td>126.72665</td>\n",
              "      <td>85222.0</td>\n",
              "      <td>Golf</td>\n",
              "      <td>30.391850</td>\n",
              "      <td>-111.958820</td>\n",
              "      <td>20.000000</td>\n",
              "      <td>0.13</td>\n",
              "      <td>50.00</td>\n",
              "      <td>0.260000</td>\n",
              "      <td>...</td>\n",
              "      <td>False</td>\n",
              "      <td>False</td>\n",
              "      <td>False</td>\n",
              "      <td>False</td>\n",
              "      <td>39.0</td>\n",
              "      <td>0.136904</td>\n",
              "      <td>-0.490654</td>\n",
              "      <td>8</td>\n",
              "      <td>4</td>\n",
              "      <td>0.275362</td>\n",
              "    </tr>\n",
              "  </tbody>\n",
              "</table>\n",
              "<p>5 rows × 262 columns</p>\n",
              "</div>\n",
              "    <div class=\"colab-df-buttons\">\n",
              "\n",
              "  <div class=\"colab-df-container\">\n",
              "    <button class=\"colab-df-convert\" onclick=\"convertToInteractive('df-ef9d79de-8f14-4ece-b7d7-c96e82679f29')\"\n",
              "            title=\"Convert this dataframe to an interactive table.\"\n",
              "            style=\"display:none;\">\n",
              "\n",
              "  <svg xmlns=\"http://www.w3.org/2000/svg\" height=\"24px\" viewBox=\"0 -960 960 960\">\n",
              "    <path d=\"M120-120v-720h720v720H120Zm60-500h600v-160H180v160Zm220 220h160v-160H400v160Zm0 220h160v-160H400v160ZM180-400h160v-160H180v160Zm440 0h160v-160H620v160ZM180-180h160v-160H180v160Zm440 0h160v-160H620v160Z\"/>\n",
              "  </svg>\n",
              "    </button>\n",
              "\n",
              "  <style>\n",
              "    .colab-df-container {\n",
              "      display:flex;\n",
              "      gap: 12px;\n",
              "    }\n",
              "\n",
              "    .colab-df-convert {\n",
              "      background-color: #E8F0FE;\n",
              "      border: none;\n",
              "      border-radius: 50%;\n",
              "      cursor: pointer;\n",
              "      display: none;\n",
              "      fill: #1967D2;\n",
              "      height: 32px;\n",
              "      padding: 0 0 0 0;\n",
              "      width: 32px;\n",
              "    }\n",
              "\n",
              "    .colab-df-convert:hover {\n",
              "      background-color: #E2EBFA;\n",
              "      box-shadow: 0px 1px 2px rgba(60, 64, 67, 0.3), 0px 1px 3px 1px rgba(60, 64, 67, 0.15);\n",
              "      fill: #174EA6;\n",
              "    }\n",
              "\n",
              "    .colab-df-buttons div {\n",
              "      margin-bottom: 4px;\n",
              "    }\n",
              "\n",
              "    [theme=dark] .colab-df-convert {\n",
              "      background-color: #3B4455;\n",
              "      fill: #D2E3FC;\n",
              "    }\n",
              "\n",
              "    [theme=dark] .colab-df-convert:hover {\n",
              "      background-color: #434B5C;\n",
              "      box-shadow: 0px 1px 3px 1px rgba(0, 0, 0, 0.15);\n",
              "      filter: drop-shadow(0px 1px 2px rgba(0, 0, 0, 0.3));\n",
              "      fill: #FFFFFF;\n",
              "    }\n",
              "  </style>\n",
              "\n",
              "    <script>\n",
              "      const buttonEl =\n",
              "        document.querySelector('#df-ef9d79de-8f14-4ece-b7d7-c96e82679f29 button.colab-df-convert');\n",
              "      buttonEl.style.display =\n",
              "        google.colab.kernel.accessAllowed ? 'block' : 'none';\n",
              "\n",
              "      async function convertToInteractive(key) {\n",
              "        const element = document.querySelector('#df-ef9d79de-8f14-4ece-b7d7-c96e82679f29');\n",
              "        const dataTable =\n",
              "          await google.colab.kernel.invokeFunction('convertToInteractive',\n",
              "                                                    [key], {});\n",
              "        if (!dataTable) return;\n",
              "\n",
              "        const docLinkHtml = 'Like what you see? Visit the ' +\n",
              "          '<a target=\"_blank\" href=https://colab.research.google.com/notebooks/data_table.ipynb>data table notebook</a>'\n",
              "          + ' to learn more about interactive tables.';\n",
              "        element.innerHTML = '';\n",
              "        dataTable['output_type'] = 'display_data';\n",
              "        await google.colab.output.renderOutput(dataTable, element);\n",
              "        const docLink = document.createElement('div');\n",
              "        docLink.innerHTML = docLinkHtml;\n",
              "        element.appendChild(docLink);\n",
              "      }\n",
              "    </script>\n",
              "  </div>\n",
              "\n",
              "\n",
              "    <div id=\"df-6ba30a02-fa7a-49f2-8986-70c01e5d8478\">\n",
              "      <button class=\"colab-df-quickchart\" onclick=\"quickchart('df-6ba30a02-fa7a-49f2-8986-70c01e5d8478')\"\n",
              "                title=\"Suggest charts\"\n",
              "                style=\"display:none;\">\n",
              "\n",
              "<svg xmlns=\"http://www.w3.org/2000/svg\" height=\"24px\"viewBox=\"0 0 24 24\"\n",
              "     width=\"24px\">\n",
              "    <g>\n",
              "        <path d=\"M19 3H5c-1.1 0-2 .9-2 2v14c0 1.1.9 2 2 2h14c1.1 0 2-.9 2-2V5c0-1.1-.9-2-2-2zM9 17H7v-7h2v7zm4 0h-2V7h2v10zm4 0h-2v-4h2v4z\"/>\n",
              "    </g>\n",
              "</svg>\n",
              "      </button>\n",
              "\n",
              "<style>\n",
              "  .colab-df-quickchart {\n",
              "      --bg-color: #E8F0FE;\n",
              "      --fill-color: #1967D2;\n",
              "      --hover-bg-color: #E2EBFA;\n",
              "      --hover-fill-color: #174EA6;\n",
              "      --disabled-fill-color: #AAA;\n",
              "      --disabled-bg-color: #DDD;\n",
              "  }\n",
              "\n",
              "  [theme=dark] .colab-df-quickchart {\n",
              "      --bg-color: #3B4455;\n",
              "      --fill-color: #D2E3FC;\n",
              "      --hover-bg-color: #434B5C;\n",
              "      --hover-fill-color: #FFFFFF;\n",
              "      --disabled-bg-color: #3B4455;\n",
              "      --disabled-fill-color: #666;\n",
              "  }\n",
              "\n",
              "  .colab-df-quickchart {\n",
              "    background-color: var(--bg-color);\n",
              "    border: none;\n",
              "    border-radius: 50%;\n",
              "    cursor: pointer;\n",
              "    display: none;\n",
              "    fill: var(--fill-color);\n",
              "    height: 32px;\n",
              "    padding: 0;\n",
              "    width: 32px;\n",
              "  }\n",
              "\n",
              "  .colab-df-quickchart:hover {\n",
              "    background-color: var(--hover-bg-color);\n",
              "    box-shadow: 0 1px 2px rgba(60, 64, 67, 0.3), 0 1px 3px 1px rgba(60, 64, 67, 0.15);\n",
              "    fill: var(--button-hover-fill-color);\n",
              "  }\n",
              "\n",
              "  .colab-df-quickchart-complete:disabled,\n",
              "  .colab-df-quickchart-complete:disabled:hover {\n",
              "    background-color: var(--disabled-bg-color);\n",
              "    fill: var(--disabled-fill-color);\n",
              "    box-shadow: none;\n",
              "  }\n",
              "\n",
              "  .colab-df-spinner {\n",
              "    border: 2px solid var(--fill-color);\n",
              "    border-color: transparent;\n",
              "    border-bottom-color: var(--fill-color);\n",
              "    animation:\n",
              "      spin 1s steps(1) infinite;\n",
              "  }\n",
              "\n",
              "  @keyframes spin {\n",
              "    0% {\n",
              "      border-color: transparent;\n",
              "      border-bottom-color: var(--fill-color);\n",
              "      border-left-color: var(--fill-color);\n",
              "    }\n",
              "    20% {\n",
              "      border-color: transparent;\n",
              "      border-left-color: var(--fill-color);\n",
              "      border-top-color: var(--fill-color);\n",
              "    }\n",
              "    30% {\n",
              "      border-color: transparent;\n",
              "      border-left-color: var(--fill-color);\n",
              "      border-top-color: var(--fill-color);\n",
              "      border-right-color: var(--fill-color);\n",
              "    }\n",
              "    40% {\n",
              "      border-color: transparent;\n",
              "      border-right-color: var(--fill-color);\n",
              "      border-top-color: var(--fill-color);\n",
              "    }\n",
              "    60% {\n",
              "      border-color: transparent;\n",
              "      border-right-color: var(--fill-color);\n",
              "    }\n",
              "    80% {\n",
              "      border-color: transparent;\n",
              "      border-right-color: var(--fill-color);\n",
              "      border-bottom-color: var(--fill-color);\n",
              "    }\n",
              "    90% {\n",
              "      border-color: transparent;\n",
              "      border-bottom-color: var(--fill-color);\n",
              "    }\n",
              "  }\n",
              "</style>\n",
              "\n",
              "      <script>\n",
              "        async function quickchart(key) {\n",
              "          const quickchartButtonEl =\n",
              "            document.querySelector('#' + key + ' button');\n",
              "          quickchartButtonEl.disabled = true;  // To prevent multiple clicks.\n",
              "          quickchartButtonEl.classList.add('colab-df-spinner');\n",
              "          try {\n",
              "            const charts = await google.colab.kernel.invokeFunction(\n",
              "                'suggestCharts', [key], {});\n",
              "          } catch (error) {\n",
              "            console.error('Error during call to suggestCharts:', error);\n",
              "          }\n",
              "          quickchartButtonEl.classList.remove('colab-df-spinner');\n",
              "          quickchartButtonEl.classList.add('colab-df-quickchart-complete');\n",
              "        }\n",
              "        (() => {\n",
              "          let quickchartButtonEl =\n",
              "            document.querySelector('#df-6ba30a02-fa7a-49f2-8986-70c01e5d8478 button');\n",
              "          quickchartButtonEl.style.display =\n",
              "            google.colab.kernel.accessAllowed ? 'block' : 'none';\n",
              "        })();\n",
              "      </script>\n",
              "    </div>\n",
              "\n",
              "    </div>\n",
              "  </div>\n"
            ],
            "application/vnd.google.colaboratory.intrinsic+json": {
              "type": "dataframe",
              "variable_name": "df"
            }
          },
          "metadata": {},
          "execution_count": 45
        }
      ]
    },
    {
      "cell_type": "markdown",
      "source": [
        "# Training Multiple CLassifiers"
      ],
      "metadata": {
        "id": "2s0X-8KFyauu"
      }
    },
    {
      "cell_type": "code",
      "source": [
        "# Check columns with object (string) data type\n",
        "df.select_dtypes(include=['object']).nunique()\n"
      ],
      "metadata": {
        "colab": {
          "base_uri": "https://localhost:8080/",
          "height": 115
        },
        "id": "FUG17dY1y7a5",
        "outputId": "2ecc0fb6-37b6-417d-d179-3ac6d7f7c331"
      },
      "execution_count": 46,
      "outputs": [
        {
          "output_type": "execute_result",
          "data": {
            "text/plain": [
              "department_name    11\n",
              "dtype: int64"
            ],
            "text/html": [
              "<div>\n",
              "<style scoped>\n",
              "    .dataframe tbody tr th:only-of-type {\n",
              "        vertical-align: middle;\n",
              "    }\n",
              "\n",
              "    .dataframe tbody tr th {\n",
              "        vertical-align: top;\n",
              "    }\n",
              "\n",
              "    .dataframe thead th {\n",
              "        text-align: right;\n",
              "    }\n",
              "</style>\n",
              "<table border=\"1\" class=\"dataframe\">\n",
              "  <thead>\n",
              "    <tr style=\"text-align: right;\">\n",
              "      <th></th>\n",
              "      <th>0</th>\n",
              "    </tr>\n",
              "  </thead>\n",
              "  <tbody>\n",
              "    <tr>\n",
              "      <th>department_name</th>\n",
              "      <td>11</td>\n",
              "    </tr>\n",
              "  </tbody>\n",
              "</table>\n",
              "</div><br><label><b>dtype:</b> int64</label>"
            ]
          },
          "metadata": {},
          "execution_count": 46
        }
      ]
    },
    {
      "cell_type": "markdown",
      "source": [
        "# **Phase 5: Model Development - Delivery Delay Prediction**\n",
        "\n",
        "In this phase, we build classification models to predict delivery delay status (early, on-time, or late) using the cleaned and preprocessed dataset. Our target variable is the `label` column, which we previously mapped from (-1, 0, 1) to (0, 1, 2) for modeling purposes.\n",
        "\n",
        "We will:\n",
        "\n",
        "- Split the data into training and test sets\n",
        "- Train three models: Logistic Regression, Random Forest, and XGBoost\n",
        "- Evaluate each model using Accuracy and F1 Score (macro average)\n",
        "- Apply hyperparameter tuning to improve performance\n"
      ],
      "metadata": {
        "id": "j3nL7j1seAW2"
      }
    },
    {
      "cell_type": "code",
      "source": [
        "# One-Hot Encode the Remaining Categorical Columns\n",
        "\n",
        "remaining_cats = df.select_dtypes(include=['object']).columns.tolist()\n",
        "\n",
        "\n",
        "print(remaining_cats)\n",
        "\n",
        "# Encode them\n",
        "df = pd.get_dummies(df, columns=remaining_cats, drop_first=True, dtype=int)\n"
      ],
      "metadata": {
        "colab": {
          "base_uri": "https://localhost:8080/"
        },
        "id": "Sme_kmkjzQDy",
        "outputId": "2a851cba-3e67-45a6-8ba4-06e693a85c28"
      },
      "execution_count": 47,
      "outputs": [
        {
          "output_type": "stream",
          "name": "stdout",
          "text": [
            "['department_name']\n"
          ]
        }
      ]
    },
    {
      "cell_type": "markdown",
      "source": [
        "# Remap Label"
      ],
      "metadata": {
        "id": "HR2wrWTVfijm"
      }
    },
    {
      "cell_type": "code",
      "source": [
        "# Remap label safely in the dataset\n",
        "df['label_mapped'] = df['label'].map({-1: 0, 0: 1, 1: 2})\n",
        "\n",
        "# Confirm unique classes\n",
        "print(df['label_mapped'].unique())\n",
        "\n",
        "# Define features and new target\n",
        "X = df.drop(columns=['label', 'label_mapped'])\n",
        "y = df['label_mapped']"
      ],
      "metadata": {
        "colab": {
          "base_uri": "https://localhost:8080/"
        },
        "id": "BtvAyBjI1gtm",
        "outputId": "abfe6026-c5eb-408c-8739-296ac870651a"
      },
      "execution_count": 48,
      "outputs": [
        {
          "output_type": "stream",
          "name": "stdout",
          "text": [
            "[0 2 1]\n"
          ]
        }
      ]
    },
    {
      "cell_type": "markdown",
      "source": [
        "# Train Test Split"
      ],
      "metadata": {
        "id": "IC7CkIIZf3qn"
      }
    },
    {
      "cell_type": "code",
      "source": [
        "# Train-Test Split\n",
        "from sklearn.model_selection import train_test_split\n",
        "\n",
        "X_train, X_test, y_train, y_test = train_test_split(\n",
        "    X, y, test_size=0.2, random_state=42, stratify=y\n",
        ")"
      ],
      "metadata": {
        "id": "Ur8FtkDAf54W"
      },
      "execution_count": 49,
      "outputs": []
    },
    {
      "cell_type": "markdown",
      "source": [
        "# **Model Training & Evaluation**\n",
        "> **Logistic Regression**"
      ],
      "metadata": {
        "id": "OUFVquoLf7-e"
      }
    },
    {
      "cell_type": "code",
      "source": [
        "# Logistic Regression\n",
        "from sklearn.linear_model import LogisticRegression\n",
        "from sklearn.metrics import accuracy_score, f1_score\n",
        "\n",
        "log_reg = LogisticRegression(max_iter=1000)\n",
        "log_reg.fit(X_train, y_train)\n",
        "\n",
        "y_pred_log = log_reg.predict(X_test)\n",
        "\n",
        "print(\"Logistic Regression:\")\n",
        "print(\"Accuracy:\", accuracy_score(y_test, y_pred_log))\n",
        "print(\"F1 Score:\", f1_score(y_test, y_pred_log, average='macro'))\n"
      ],
      "metadata": {
        "colab": {
          "base_uri": "https://localhost:8080/"
        },
        "id": "NYOPRM13yX2B",
        "outputId": "0a007d82-dfab-4eff-c01b-8fa24365fa46"
      },
      "execution_count": 50,
      "outputs": [
        {
          "output_type": "stream",
          "name": "stdout",
          "text": [
            "Logistic Regression:\n",
            "Accuracy: 0.560204081632653\n",
            "F1 Score: 0.2393721386527142\n"
          ]
        },
        {
          "output_type": "stream",
          "name": "stderr",
          "text": [
            "/usr/local/lib/python3.11/dist-packages/sklearn/linear_model/_logistic.py:465: ConvergenceWarning: lbfgs failed to converge (status=1):\n",
            "STOP: TOTAL NO. OF ITERATIONS REACHED LIMIT.\n",
            "\n",
            "Increase the number of iterations (max_iter) or scale the data as shown in:\n",
            "    https://scikit-learn.org/stable/modules/preprocessing.html\n",
            "Please also refer to the documentation for alternative solver options:\n",
            "    https://scikit-learn.org/stable/modules/linear_model.html#logistic-regression\n",
            "  n_iter_i = _check_optimize_result(\n"
          ]
        }
      ]
    },
    {
      "cell_type": "markdown",
      "source": [
        "> **Random Forest**"
      ],
      "metadata": {
        "id": "hDN_wStlg72t"
      }
    },
    {
      "cell_type": "code",
      "source": [
        "# Random Forest Classifier\n",
        "\n",
        "from sklearn.ensemble import RandomForestClassifier\n",
        "\n",
        "rf = RandomForestClassifier(n_estimators=100, random_state=42)\n",
        "rf.fit(X_train, y_train)\n",
        "\n",
        "y_pred_rf = rf.predict(X_test)\n",
        "\n",
        "print(\"Random Forest:\")\n",
        "print(\"Accuracy:\", accuracy_score(y_test, y_pred_rf))\n",
        "print(\"F1 Score:\", f1_score(y_test, y_pred_rf, average='macro'))\n"
      ],
      "metadata": {
        "colab": {
          "base_uri": "https://localhost:8080/"
        },
        "id": "Pskw0TUByjdI",
        "outputId": "3949e736-c4d2-426e-cbcc-5da49b632790"
      },
      "execution_count": 51,
      "outputs": [
        {
          "output_type": "stream",
          "name": "stdout",
          "text": [
            "Random Forest:\n",
            "Accuracy: 0.5795918367346938\n",
            "F1 Score: 0.3957074800863541\n"
          ]
        }
      ]
    },
    {
      "cell_type": "markdown",
      "source": [
        "> **XGBoost**"
      ],
      "metadata": {
        "id": "e3Lpol5mhDN_"
      }
    },
    {
      "cell_type": "code",
      "source": [
        "#XGBoost Classifier\n",
        "\n",
        "import xgboost as xgb\n",
        "\n",
        "xgb_clf = xgb.XGBClassifier(random_state=42, use_label_encoder=False, eval_metric='mlogloss')\n",
        "xgb_clf.fit(X_train, y_train)\n",
        "\n",
        "y_pred_xgb = xgb_clf.predict(X_test)\n",
        "\n",
        "print(\"XGBoost:\")\n",
        "print(\"Accuracy:\", accuracy_score(y_test, y_pred_xgb))\n",
        "print(\"F1 Score:\", f1_score(y_test, y_pred_xgb, average='macro'))\n"
      ],
      "metadata": {
        "colab": {
          "base_uri": "https://localhost:8080/"
        },
        "id": "fsJQCM680L4C",
        "outputId": "59d348de-49c8-4b63-ea88-37cca97a212f"
      },
      "execution_count": 52,
      "outputs": [
        {
          "output_type": "stream",
          "name": "stderr",
          "text": [
            "/usr/local/lib/python3.11/dist-packages/xgboost/core.py:158: UserWarning: [18:49:30] WARNING: /workspace/src/learner.cc:740: \n",
            "Parameters: { \"use_label_encoder\" } are not used.\n",
            "\n",
            "  warnings.warn(smsg, UserWarning)\n"
          ]
        },
        {
          "output_type": "stream",
          "name": "stdout",
          "text": [
            "XGBoost:\n",
            "Accuracy: 0.5714285714285714\n",
            "F1 Score: 0.44638462804989293\n"
          ]
        }
      ]
    },
    {
      "cell_type": "markdown",
      "source": [
        "# Hyperparameter Tuning for Random Forest"
      ],
      "metadata": {
        "id": "UqQiKxfehPCo"
      }
    },
    {
      "cell_type": "code",
      "source": [
        "# Hyperparameter Tuning for Random Forest\n",
        "\n",
        "from sklearn.model_selection import GridSearchCV\n",
        "\n",
        "param_grid = {\n",
        "    'n_estimators': [100, 200],\n",
        "    'max_depth': [None, 10, 20],\n",
        "}\n",
        "\n",
        "grid = GridSearchCV(RandomForestClassifier(random_state=42), param_grid, cv=3, scoring='f1_macro')\n",
        "grid.fit(X_train, y_train)\n",
        "\n",
        "print(\"Best Parameters:\", grid.best_params_)\n",
        "\n",
        "y_pred_grid = grid.predict(X_test)\n",
        "\n",
        "print(\"Tuned Random Forest Results:\")\n",
        "print(\"Accuracy:\", accuracy_score(y_test, y_pred_grid))\n",
        "print(\"F1 Score (macro):\", f1_score(y_test, y_pred_grid, average='macro'))\n"
      ],
      "metadata": {
        "colab": {
          "base_uri": "https://localhost:8080/"
        },
        "id": "xv5DfSnb0Si-",
        "outputId": "9a9a068f-e5c1-4a6d-84d7-e757d93a15e5"
      },
      "execution_count": 53,
      "outputs": [
        {
          "output_type": "stream",
          "name": "stdout",
          "text": [
            "Best Parameters: {'max_depth': None, 'n_estimators': 100}\n",
            "Tuned Random Forest Results:\n",
            "Accuracy: 0.5795918367346938\n",
            "F1 Score (macro): 0.3957074800863541\n"
          ]
        }
      ]
    },
    {
      "cell_type": "code",
      "source": [
        "import pandas as pd\n",
        "import matplotlib.pyplot as plt\n",
        "\n",
        "# Feature importance from Random Forest\n",
        "importances = rf.feature_importances_\n",
        "feat_importance = pd.Series(importances, index=X.columns).sort_values(ascending=False)\n",
        "\n",
        "plt.figure(figsize=(10, 6))\n",
        "feat_importance.head(20).plot(kind='barh')\n",
        "plt.title(\"Top 20 Feature Importances (Random Forest)\")\n",
        "plt.show()\n"
      ],
      "metadata": {
        "colab": {
          "base_uri": "https://localhost:8080/",
          "height": 545
        },
        "id": "XPsRMqVq3vzC",
        "outputId": "51aff460-54e8-4dd2-9643-132e2eed13da"
      },
      "execution_count": 54,
      "outputs": [
        {
          "output_type": "display_data",
          "data": {
            "text/plain": [
              "<Figure size 1000x600 with 1 Axes>"
            ],
            "image/png": "[encoded data removed]"
          },
          "metadata": {}
        }
      ]
    },
    {
      "cell_type": "markdown",
      "source": [
        "# 🚀 **Phase 6: Insights & Recommendations - SwiftChain Analytics Capstone**\n",
        "\n",
        "---\n",
        "\n",
        "## 🎯 **Objective**\n",
        "\n",
        "Analyze key factors influencing delivery delays using machine learning insights, and provide actionable recommendations to improve logistics operations for SwiftChain Analytics.\n",
        "\n",
        "---\n",
        "\n",
        "## 📊 **1. Feature Importance Summary**\n",
        "\n",
        "The Random Forest model identified the following as the most influential predictors of delivery delay:\n",
        "\n",
        "| Feature                                           | Importance Level | Interpretation                                             |\n",
        "| ------------------------------------------------- | ---------------- | ---------------------------------------------------------- |\n",
        "| `shipping_mode_Standard Class`                    | Very High        | This shipping mode strongly affects delivery speed.        |\n",
        "| `shipping_duration`                               | High             | The time between order placement and shipping is critical. |\n",
        "| `latitude` & `longitude`                          | Moderate         | Customer's geographic location influences delays.          |\n",
        "| `profit_per_order`, `order_profit_per_order`      | Moderate         | More profitable orders may be prioritized.                 |\n",
        "| `profit_margin_ratio`                             | Moderate         | Profitability impacts logistics focus.                     |\n",
        "| `order_item_total_amount`                         | Moderate         | Larger orders face greater logistical challenges.          |\n",
        "| `order_item_discount`, `order_item_discount_rate` | Moderate         | Discounted orders potentially disrupt fulfillment flow.    |\n",
        "| `customer_zipcode`                                | Lower            | Specific regions show higher delay risks.                  |\n",
        "| `order_weekday`, `order_month`                    | Lower            | Delivery timing patterns emerge across days/months.        |\n",
        "| `sales_per_customer` & `product_price`            | Lower            | High sales value products may impact fulfillment.          |\n",
        "\n",
        "---\n",
        "\n",
        "## 📈 **2. Model Performance Recap**\n",
        "\n",
        "Your models performed as follows:\n",
        "\n",
        "| Model               | Accuracy | F1 Score (macro) | Key Takeaways                                           |\n",
        "| ------------------- | -------- | ---------------- | ------------------------------------------------------- |\n",
        "| Logistic Regression | 56%      | 0.24             | Struggles to capture complex patterns                   |\n",
        "| Random Forest       | 58%      | 0.39             | Good baseline for delay prediction                      |\n",
        "| XGBoost             | 57%      | 0.45             | Best performance, robust handling of imbalanced classes |\n",
        "\n",
        "⚡ **Real-world Insight:**\n",
        "With three delay categories (late, on-time, early), even \\~58% accuracy is significantly better than random (33%) and provides actionable value for operations teams.\n",
        "\n",
        "---\n",
        "\n",
        "## 💡 **3. Actionable Business Recommendations**\n",
        "\n",
        "✅ **Shipping Mode Intervention:**\n",
        "\n",
        "* Standard Class shows the greatest impact on delivery delays.\n",
        "* Review service level agreements (SLAs) and consider alternative shipping methods where feasible.\n",
        "\n",
        "✅ **Monitor and Improve Shipping Duration:**\n",
        "\n",
        "* Shipping duration directly correlates with delays.\n",
        "* Address process bottlenecks from order placement to shipment.\n",
        "* Investigate data pipeline issues contributing to negative or unrealistic duration values.\n",
        "\n",
        "✅ **Geographic and Regional Focus:**\n",
        "\n",
        "* Latitude, longitude, and zip code patterns reveal regional delay clusters.\n",
        "* Improve distribution strategies or regional warehouse presence in high-delay areas.\n",
        "\n",
        "✅ **Product and Order Complexity Management:**\n",
        "\n",
        "* Large, discounted, or high-profit orders present increased fulfillment complexity.\n",
        "* Enhance inventory forecasting and fulfillment planning during high-volume promotions.\n",
        "\n",
        "✅ **Time-based Operational Adjustments:**\n",
        "\n",
        "* Day of the week and month influence delay likelihood.\n",
        "* Optimize staffing and logistics around identified peak periods."
      ],
      "metadata": {
        "id": "i_3pOx5tm5xM"
      }
    },
    {
      "cell_type": "markdown",
      "source": [
        "## **Model Performance Recap**\n",
        "\n",
        "The Model performed as follows:\n",
        "\n",
        "| Model               | Accuracy | F1 Score (macro) | Key Takeaways                                           |\n",
        "| ------------------- | -------- | ---------------- | ------------------------------------------------------- |\n",
        "| Logistic Regression | 56%      | 0.24             | Struggles to capture complex patterns                   |\n",
        "| Random Forest       | 58%      | 0.39             | Good baseline for delay prediction                      |\n",
        "| XGBoost             | 57%      | 0.45             | Best performance, robust handling of imbalanced classes |\n",
        "\n",
        "\n",
        "\n",
        "With three delay categories (late, on-time, early), even ~58% accuracy is significantly better than random (33%) and provides actionable value for operations teams.\n"
      ],
      "metadata": {
        "id": "h1THpkvYnQDa"
      }
    },
    {
      "cell_type": "code",
      "source": [],
      "metadata": {
        "id": "nGdSHmnG5Exl"
      },
      "execution_count": 54,
      "outputs": []
    }
  ]
}